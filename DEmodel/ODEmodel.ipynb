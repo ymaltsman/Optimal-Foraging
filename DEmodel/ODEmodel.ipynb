{
 "cells": [
  {
   "cell_type": "markdown",
   "metadata": {},
   "source": [
    "Unfortunately Github doesn't render ipywidgets, which allow us to interactively alter the parameters of the model. If you want to mess with the parameters yourself then download this file, and also install and activate ipywidgets, which you can do in the command line interface with the following commands:\n",
    "```\n",
    "pip install ipywidgets\n",
    "jupyter nbextension enable --py widgetsnbextension\n",
    "jupyter labextension install @jupyter-widgets/jupyterlab-manager\n",
    "```"
   ]
  },
  {
   "cell_type": "code",
   "execution_count": 1,
   "metadata": {},
   "outputs": [],
   "source": [
    "#dependencies\n",
    "import numpy as np\n",
    "import operator as op\n",
    "from functools import reduce\n",
    "import ipywidgets as widgets\n",
    "from ipywidgets import interact, interact_manual\n",
    "import matplotlib.pyplot as plt\n",
    "import cmath\n",
    "from sympy import *"
   ]
  },
  {
   "cell_type": "markdown",
   "metadata": {},
   "source": [
    "Parameters:\n",
    "<br>\n",
    "$\\lambda$ = probability of encountering resources <br>\n",
    "$S(t)$ = number of solitary locusts at time t [locusts] <br>\n",
    "$G(t)$ = number of gregarious locusts at time t [locusts] <br>\n",
    "$R(t)$ = number of resources at time t [mass] <br>\n",
    "$R^*$ = Value of resources for which consumption rate saturates [mass] <br>\n",
    "$R_c$ = carrying capacity for resources [mass] <br>\n",
    "$\\alpha$ = percentage of total resources found in a patch, proxy for clumpiness <br>\n",
    "$k$ = proportion of resources reserved for a solitary locust before gregarious locusts arrive <br>\n",
    "$h_0$ = foraging rate [mass/time] <br>\n",
    "$\\mu$ = energy cost [mass/time] <br> \n",
    "$r$ = resource regeneration rate [1/time] <br>\n",
    "$p_s, p_g$ = proportion of solitary, gregarious locusts <br>\n",
    "Note that $G(t)$ and $S(t)$ actually stay the same, but the energy of locusts' changes"
   ]
  },
  {
   "cell_type": "markdown",
   "metadata": {},
   "source": [
    "<h3>The model:</h3><br>\n",
    "<h4>Change in energy for gregarious locusts</h4><br>\n",
    "$$\n",
    "G(t)\\frac{dE_G}{dt} = \\left [\\sum_{i=0}^{S(t)}{S(t) \\choose i}\\lambda^i(1-\\lambda)^{S(t)-i} i\\right ](1-p_sk) \\alpha p_sh(R) + G(t)\\lambda \\alpha p_gh(R) - \\mu_GG(t)\n",
    "$$\n",
    "Where $h(R)=h_0\\frac{R(t)}{(R(t)+R^*)}$ (Instead of $R(t)$ this could be the expected number of resources)\n",
    "<p>Gregarious locusts gain energy both by discovering resources themselves (second term on the right) and by scrounging off of solitary locusts (first term)</p>\n"
   ]
  },
  {
   "cell_type": "markdown",
   "metadata": {},
   "source": [
    "<h4>Change in energy for solitary locusts</h4>\n",
    "<br>\n",
    "$$\n",
    "S(t)\\frac{dE_S}{dt} = \\left [\\sum_{i=0}^{S(t)} {S(t) \\choose i} \\lambda^i(1-\\lambda)^{S(t)-i}i \\right ]p_sk \\alpha h(R) - \\mu_SS(t)\n",
    "$$"
   ]
  },
  {
   "cell_type": "markdown",
   "metadata": {},
   "source": [
    "<h4>Change in resources</h4>\n",
    "$$\n",
    "\\frac{dR}{dt} = -(S(t)(\\frac{dE_S}{dt}+\\mu_s) + G(t)(\\frac{dE_G}{dt}+\\mu_G))+rR(t)(1-R(t)/R_c)\n",
    "$$"
   ]
  },
  {
   "cell_type": "code",
   "execution_count": 3,
   "metadata": {},
   "outputs": [],
   "source": [
    "##implementation of dimensionalized system - need to update this \n",
    "def DE(S, L, R, alpha, k, G, h, us, ug, r, Rn, Rc):\n",
    "    ps=S/(S+G)\n",
    "    pg=G/(S+G)\n",
    "    h = h*R/(R+Rn)\n",
    "    \n",
    "    #dE_G/dt\n",
    "    x=x*h*ps*(1-ps*k)*alpha\n",
    "    x += glamb*G*alpha*pg*h - ug*G\n",
    "    \n",
    "    #dE_S/dt\n",
    "    y = 0\n",
    "    for i in range(S):\n",
    "        y += choose(S,i)*((slamb**i)*((1-slamb)**(S-i))*i)\n",
    "    y = y*ps*k*alpha*h - us*S\n",
    "    \n",
    "    #dR/dt\n",
    "    z = r*R*(1-(R/Rc)) - S*(y+us) - G*(x+ug)\n",
    "    return x, y, z"
   ]
  },
  {
   "cell_type": "code",
   "execution_count": 4,
   "metadata": {
    "scrolled": false
   },
   "outputs": [
    {
     "data": {
      "application/vnd.jupyter.widget-view+json": {
       "model_id": "a9599620bc464dd8945257877e899c99",
       "version_major": 2,
       "version_minor": 0
      },
      "text/plain": [
       "interactive(children=(IntSlider(value=30, description='S', max=50, min=10), IntSlider(value=100, description='…"
      ]
     },
     "metadata": {},
     "output_type": "display_data"
    }
   ],
   "source": [
    "@interact(k=(.05,1,.1), h=(.05, .5, .05), alpha=(0,1,.05), us=(.001,.015, .001), ug=(.001,.015, .001))\n",
    "def simulate(S=(10,50), L=100, G=(10,50), Rn=30, alpha=.3, k=.35, h=.05, us=.004, ug=.007, r=.2, Rc=100, tsteps=10000):\n",
    "    dt = .01\n",
    "    x = np.empty([tsteps + 1,3])\n",
    "    x[0] = [0,0,Rn]\n",
    "    for i in range(tsteps):\n",
    "        g_dot, s_dot, R_dot = DE(S, L, x[i][2], alpha, k, G, h, us, ug, r, Rn, Rc)\n",
    "        x[i+1][0] = x[i][0]+G*g_dot*dt\n",
    "        x[i+1][1] = x[i][1]+S*s_dot*dt\n",
    "        x[i+1][2] = x[i][2]+R_dot*dt\n",
    "    g = [y[0] for y in x]\n",
    "    s = [y[1] for y in x]\n",
    "    r = [y[2] for y in x]\n",
    "    plt.plot(range(tsteps+1), g, c='b', label='gregarizing locusts\\' energy')\n",
    "    plt.plot(range(tsteps+1), s, c='r', label='solitary locusts\\' energy')\n",
    "    plt.plot(range(tsteps+1), r, c='g', label='resources')\n",
    "    legend=plt.legend()\n",
    "    plt.xlabel('time')\n",
    "    plt.show()"
   ]
  },
  {
   "cell_type": "markdown",
   "metadata": {},
   "source": [
    "<h3> Non Dimensionalization </h3>\n",
    "<br>\n",
    "We would like to make the system of equations dimensionless so that we can deal with fewer parameters <br>\n",
    "First note that the sums in the first two DEs evaluate to the expected value of a binomial distribution, which in this case would be $S(t) \\lambda$ \n",
    "<br>\n",
    "We set up a time scale $\\tau = t/T$ for $T=1/\\mu_s$. Thus $\\frac{dE_S}{dt}=\\frac{dE_S}{d\\tau}\\frac{d\\tau}{dt}=\\mu_s\\frac{dE_S}{d\\tau}$\n",
    "<br>\n",
    "Thus our DE for solitary locusts' energy becomes:\n",
    "$$\n",
    "\\mu_s S(t) \\frac{dE_S}{d\\tau} = S(t)\\lambda p_sk \\alpha h(R) - \\mu_sS(t) = S(t)\\lambda k \\alpha h_0 p_s \\frac{R(t)}{R(t)+R^*} - \\mu_sS(t) \n",
    "$$\n",
    "<br>\n",
    "Dividing through by $\\mu_s S(t)$ yields\n",
    "$$\n",
    "\\frac{dE_S}{d\\tau} = k \\gamma p_s \\frac{R(t)}{R(t)+R^*} - 1 \n",
    "$$\n",
    "\n",
    "where $\\gamma = \\frac{\\alpha h_0 \\lambda}{\\mu_s}$\n",
    "<br>\n",
    "<br>\n",
    "We also apply this non dimensionalization to gregarious locusts' energy\n",
    "$$\n",
    "\\mu_sG(t)\\frac{dE_G}{d\\tau} = S(t)\\lambda\\alpha p_s h(R) - S(t)\\lambda\\alpha kp_s^2h(R) + \\lambda \\alpha p_gh(R)G(t) - \\mu_GG(t)\n",
    "$$\n",
    "Dividing through yields:\n",
    "$$\n",
    "\\frac{dE_G}{d\\tau} = q(1-kp_s)\\gamma p_s\\frac{R(t)}{R(t)+R^*} + \\gamma p_g \\frac{R(t)}{R(t)+R^*} - \\mu_l\n",
    "$$\n",
    "where $\\mu_l = \\mu_g/\\mu_s$ and $q=S(t)/G(t)$\n",
    "<br>\n",
    "<br>\n",
    "Finally, non dimensionalizing the resource DE yields:\n",
    "$$\n",
    "\\frac{dR}{d\\tau} = r^*R(t)(1-R(t)/R_c) - S(t)(\\frac{dE_s}{d\\tau}+1) - G(t)(\\frac{dE_g}{d\\tau}+\\mu_l)\n",
    "$$\n",
    "where $r^*=r/\\mu_s$"
   ]
  },
  {
   "cell_type": "code",
   "execution_count": 36,
   "metadata": {},
   "outputs": [],
   "source": [
    "def altDE(S, R, k, G, ul, r, Rn, gamma, Rc):\n",
    "    q = S/G\n",
    "    ps = S/(S+G)\n",
    "    pg = G/(S+G)\n",
    "    h = R/(R+Rn)\n",
    "    \n",
    "    \n",
    "    #dE_G/dtau\n",
    "    x = q*(1-k*ps)*gamma*ps*h + gamma*pg*h - ul\n",
    "    \n",
    "    #dE_S/dt\n",
    "    y = k*gamma*ps*h - 1\n",
    "    \n",
    "    #dR/dt\n",
    "    z = r*R*(1-(R/Rc)) - S*(y+1) - G*(x+ul)\n",
    "    return x, y, z\n"
   ]
  },
  {
   "cell_type": "code",
   "execution_count": 38,
   "metadata": {
    "scrolled": false
   },
   "outputs": [
    {
     "data": {
      "application/vnd.jupyter.widget-view+json": {
       "model_id": "8a9d0ce6e14042169904ad38042b31a8",
       "version_major": 2,
       "version_minor": 0
      },
      "text/plain": [
       "interactive(children=(IntSlider(value=15, description='S', max=50), IntSlider(value=15, description='G', max=5…"
      ]
     },
     "metadata": {},
     "output_type": "display_data"
    }
   ],
   "source": [
    "@interact(k=(.05,1.5,.05), S=(0,50,1), G=(0,50,1), ul=(1,3,.1), gamma=(.01,5,.01), Rn=(0,2000,10), Rc=(0,2000), tsteps=(0,100000,100))\n",
    "def simulate(S=15, G=15, Rn=30, k=.35, ul=1.5, r=.2, gamma=.9, Rc=100, R0=40, tsteps=1000):\n",
    "    q = S/G\n",
    "    ps = S/(S+G)\n",
    "    pg = G/(S+G)\n",
    "    \n",
    "    beta = (q**2)*(1-k*ps)*ps + pg\n",
    "    kappa = (S**2)*k*ps + (G**2)*beta\n",
    "    coeff = [-r/Rc, r*(1-Rn/Rc), r*Rn-gamma*kappa]\n",
    "    print(np.roots(coeff))\n",
    "    gcrit = (1/kappa)*(r*Rn+(Rc*r/4)*(1-Rn/Rc)**2)\n",
    "    print(gcrit)\n",
    "    \n",
    "    dtau = .01\n",
    "    x = np.empty([tsteps + 1,3])\n",
    "    x[0] = [0,0,R0]\n",
    "    for i in range(tsteps):\n",
    "        g_dot, s_dot, R_dot = altDE(S, x[i][2], k, G, ul, r, Rn, gamma, Rc)\n",
    "        x[i+1][0] = x[i][0]+G*g_dot*dtau\n",
    "        x[i+1][1] = x[i][1]+S*s_dot*dtau\n",
    "        x[i+1][2] = x[i][2]+R_dot*dtau\n",
    "    g = [y[0] for y in x]\n",
    "    s = [y[1] for y in x]\n",
    "    r = [y[2] for y in x]\n",
    "    plt.plot(range(tsteps+1), g, c='b', label='gregarizing locusts\\' energy')\n",
    "    plt.plot(range(tsteps+1), s, c='r', label='solitary locusts\\' energy')\n",
    "    plt.plot(range(tsteps+1), r, c='g', label='resources')\n",
    "    legend=plt.legend()\n",
    "    plt.xlabel('time')\n",
    "    plt.show()"
   ]
  },
  {
   "cell_type": "markdown",
   "metadata": {},
   "source": [
    "If you change k to the critical value and then change gamma such that the nullclines are positive, you should see that the nullclines are pretty close by."
   ]
  },
  {
   "cell_type": "markdown",
   "metadata": {},
   "source": [
    "<h3> Equilibrium for R(t) (Need to Update) </h3>\n",
    "We set $dR/d\\tau=0$ to find an equilibrium\n",
    "$$\n",
    "0 = \\frac{dR}{d\\tau} = r^*R(t)(1-R(t)/R_c) - \\frac{R(t)}{R(t)+R^*}(S^2(t)k\\gamma p_s +G^2(t)\\gamma \\beta)\n",
    "$$\n",
    "Rearranging yields:\n",
    "$$\n",
    "r^*(R(t)+R^*)(1-R(t)/R_c)=\\gamma \\kappa\n",
    "$$\n",
    "Where $\\kappa=S^2(t)kp_s + G^2(t)\\beta$ <br>\n",
    "Thus, we get the following solution for $R(t)$ via the quadratic equation:\n",
    "$$\n",
    "R(t) = \\frac{-r^*(1 - \\frac{R^*}{R_c}) \\pm \\sqrt{(r^*(1-\\frac{R^*}{R_c}))^2 + 4(\\frac{r^*}{R_c}(r^*R^*-\\gamma\\kappa))}}{2r^*/R_c}\n",
    "$$\n",
    "This has a real solution when the terms in the square root are positive, which requires\n",
    "$$\n",
    "\\gamma \\leq \\frac{1}{\\kappa}(r^* R^* + \\frac{R_c r^*}{4}(1-\\frac{R^*}{R_c})^2)\n",
    "$$\n",
    "We then conduct a stability analysis of this fixed point by taking the derivate of $dR/d\\tau$ relative to $R$:\n",
    "$$\n",
    "f'(R) = r^* - \\frac{R^*}{(R+R^*)^2}\\kappa \\gamma\n",
    "$$\n"
   ]
  },
  {
   "cell_type": "markdown",
   "metadata": {},
   "source": [
    "<h3>Adding a genetic component (not being used, see next section)</h3> <br>\n",
    "Let's say that the population of locusts increases and decreases relative to the locusts' energy. So for the solitary locusts:\n",
    "$$\n",
    "\\frac{dS}{dt}= E_sgS\n",
    "$$\n",
    "where $\\left[ g \\right]=1/(mass*time)$ and $g << h_0$ (although they don't have the same units), the consumption rate. In Einsteinian fashion, we can equate one locust with a certain amount of energy, such that $S=E_s/C$. Thus we can rearrange the above DE:\n",
    "$$\n",
    "\\frac{dE_s}{dt} = CE_sgS = E_S^2g\n",
    "$$\n",
    "So we can add this component to our original DE for energy:\n",
    "$$\n",
    "S(t)\\frac{dE_S}{dt} = S(t)\\lambda p_sk \\alpha h(R) - \\mu_SS(t) + CE_sgS^2(t)\n",
    "$$\n",
    "Non dimensionalizing yields\n",
    "$$\n",
    "\\frac{dE_S}{d\\tau} = S(t) k \\gamma p_s \\frac{R(t)}{R(t)+R^*} - 1 + \\frac{E_Sg}{\\mu_s}S(t)\n",
    "$$\n",
    "$$\n",
    "= \\gamma \\zeta E_s \\frac{R(t)}{R(t)+R^*} - 1 + \\rho E_S^2\n",
    "$$\n",
    "where $\\rho = g/\\mu_s$ and $\\zeta = kp_s/C$\n",
    "<br>\n",
    "<br>\n",
    "Similarily, for gregarized locusts, adding a genetic component would yield:\n",
    "$$\n",
    "\\frac{dE_G}{d\\tau} = S(t)q(1-kp_s)\\gamma p_s\\frac{R(t)}{R(t)+R^*} + G(t)\\gamma p_g \\frac{R(t)}{R(t)+R^*} - \\mu_l + \\rho E_G^2\n",
    "$$\n",
    "Just to clean this up,\n",
    "$$\n",
    "\\frac{dE_G}{d\\tau} = \\gamma \\omega E_G \\frac{R(t)}{R(t)+R^*} - \\mu_l + \\rho E_G^2\n",
    "$$\n",
    "where $\\omega = (q^2(1-kp_s)p_s+p_g)/C$\n",
    "<br>\n",
    "The change in resources would still only take into account consumption of gregarious and solitary locusts\n",
    "$$\n",
    "\\frac{dR}{d\\tau} = r^*R(t)(1-\\frac{R(t)}{R_c}) - \\gamma E_G(q\\zeta+\\omega)\\frac{R(t)}{R(t)+R^*}\n",
    "$$"
   ]
  },
  {
   "cell_type": "markdown",
   "metadata": {},
   "source": [
    "<h3>Adding an evolutionary component</h3>\n",
    "The locusts populations grow in proportion to the amount that their energy is greater/less than $\\bar{E}$, the energy required to sustain a locust.\n",
    "$$\n",
    "\\frac{dS}{dt} = \\nu S(t)(\\frac{E_S}{\\bar{E}}-1)\n",
    "$$\n",
    "$$\n",
    "\\frac{dG}{dt} = \\nu G(t)(\\frac{E_G}{\\bar{E}}-1)\n",
    "$$\n",
    "where $\\nu$ is a rate constant.\n",
    "To non-dimensionalize we divide by $\\mu_s$.\n",
    "$$\n",
    "\\frac{dS}{d\\tau} = \\nu_* S(t)(\\frac{E_S}{\\bar{E}}-1)\n",
    "$$\n",
    "$$\n",
    "\\frac{dG}{d\\tau} = \\nu_* G(t)(\\frac{E_G}{\\bar{E}}-1)\n",
    "$$\n",
    "where $\\nu^* = \\nu/\\mu_s << 1$"
   ]
  },
  {
   "cell_type": "code",
   "execution_count": 39,
   "metadata": {},
   "outputs": [],
   "source": [
    "## python implementation\n",
    "def genalgDE(S, G, R, Es, Eg, Rn, gamma, k, ul, r, Rc, nu, Ebar):\n",
    "    q = S/(G+.001)\n",
    "    ps = S/(G+S)\n",
    "    pg = G/(G+S)\n",
    "    beta = (q**2)*(1-k*ps)*ps + pg\n",
    "    h = R/(R+Rn)\n",
    "      \n",
    "    #dE_S/dt\n",
    "    x = k*gamma*ps*h - 1\n",
    "    \n",
    "    #dE_G/dtau\n",
    "    y = q*(1-k*ps)*gamma*ps*h + gamma*pg*h - ul\n",
    "    \n",
    "    #dR/dt\n",
    "    z = r*R*(1-(R/Rc)) - S*(y+1) - G*(x+ul)\n",
    "    \n",
    "    spop = nu*S*((Es/Ebar)-1)\n",
    "    gpop = nu*G*((Eg/Ebar)-1)\n",
    "    \n",
    "    return x, y, z, spop, gpop"
   ]
  },
  {
   "cell_type": "code",
   "execution_count": 41,
   "metadata": {},
   "outputs": [
    {
     "data": {
      "application/vnd.jupyter.widget-view+json": {
       "model_id": "9a33f744e25543ab928a471a326c42a5",
       "version_major": 2,
       "version_minor": 0
      },
      "text/plain": [
       "interactive(children=(FloatSlider(value=0.01, description='S0', max=50.0, step=0.01), FloatSlider(value=0.01, …"
      ]
     },
     "metadata": {},
     "output_type": "display_data"
    }
   ],
   "source": [
    "@interact(k=(.05,1.5,.05), S0=(0,50,.01), G0=(0,50,.01), R0=(0,1000,10), ul=(1,3,.1), r=(0,.2,.01), gamma=(.01,25,.01), nu=(.0001,.1,.0001), Rn=(0,2000,10), Rc=(0,2000), tsteps=(0,50000,100))\n",
    "def genalgsim(S0=.01, G0=.01, R0=50, Rn=100, gamma=1.5, k=.35, ul=1.5, r=.02, Rc=200, Ebar = 1, nu = .0036, tsteps=10000):\n",
    "    \n",
    "    dtau = .001\n",
    "    x = np.empty([tsteps + 1,5])\n",
    "    x[0] = [0,0,R0, S0, G0]\n",
    "    for i in range(tsteps):\n",
    "        s, g, z, spop, gpop = genalgDE(x[i][3], x[i][4], x[i][2], x[i][0], x[i][1], Rn, gamma, k, ul, r, Rc, nu, Ebar)\n",
    "        x[i+1][0] = x[i][0]+s*dtau\n",
    "        x[i+1][1] = x[i][1]+g*dtau\n",
    "        x[i+1][2] = x[i][2]+z*dtau\n",
    "        x[i+1][3] = x[i][3]+spop*dtau\n",
    "        x[i+1][4] = x[i][4]+gpop*dtau\n",
    "    \n",
    "    g = [y[1] for y in x]\n",
    "    s = [y[0] for y in x]\n",
    "    res = [y[2] for y in x]\n",
    "    spop = [y[3] for y in x]\n",
    "    gpop = [y[4] for y in x]\n",
    "    \n",
    "    fig, axs = plt.subplots(2)\n",
    "    \n",
    "    #axs[0].plot(range(tsteps+1), g, c='b', label='gregarizing locusts\\' energy')\n",
    "    #axs[0].plot(range(tsteps+1), s, c='r', label='solitary locusts\\' energy')\n",
    "    axs[0].plot(range(tsteps+1), res, c='g', label='resources')\n",
    "    legend=axs[0].legend()\n",
    "    axs[1].plot(range(tsteps+1), spop, c='r', label='solitary population')\n",
    "    axs[1].plot(range(tsteps+1), gpop, c='g', label='gregarious population')\n",
    "    legend=axs[1].legend()\n",
    "    plt.xlabel('time')\n",
    "    print(\"nu\", nu)\n",
    "    \"\"\"\n",
    "    gcrit = []\n",
    "\n",
    "    for S, G in zip(spop, gpop):\n",
    "        ps = S/(G+S)\n",
    "        pg = G/(G+S)\n",
    "        q=S/G\n",
    "        beta = (q**2)*(1-k*ps)*ps + pg\n",
    "        kappa = (S**2)*k*ps + (G**2)*beta\n",
    "        gcrit.append([(1/kappa)*(r*Rn+(Rc*r/4)*(1-Rn/Rc)**2)])\n",
    "\n",
    "    #axs[2].plot(range(tsteps+1),gcrit, label='critical gamma')\n",
    "    #legend=axs[2].legend()\n",
    "    \"\"\"\n",
    "    plt.show()"
   ]
  },
  {
   "cell_type": "markdown",
   "metadata": {},
   "source": [
    "<h3>Removing gregarious locusts</h3>\n",
    "Analysis is very complicated with 5 equations dictating the dynamics of gregarious and solitary locusts. Let's look at the system with only solitary locusts. We thus have the following three equations for locusts' energy, resources, and locusts' population:\n",
    "$$\n",
    "\\frac{dE_S}{d\\tau} = k \\gamma p_s \\frac{R(t)}{R(t)+R^*} - 1 = k\\gamma \\frac{R(t)}{R(t)+R^*} - 1\n",
    "$$\n",
    "where $p_s=1$\n",
    "$$\n",
    "\\frac{dR}{d\\tau} = r^*R(t)(1-R(t)/R_c) - S(t)(\\frac{dE_s}{d\\tau}+1)\n",
    "$$\n",
    "$$\n",
    "\\frac{dS}{d\\tau} = \\nu_* S(t)(\\frac{E_S}{\\bar{E}}-1)\n",
    "$$\n",
    "Setting this system equal to the zero vector yields the following fixed points (using Sympy):\n",
    "$$\n",
    "\\left [ E_S^*(t), S^*(t), R^*(t) \\right ] = \\left [ \\bar{E}, \\frac{R^*r^*(R_c\\gamma k -R_c - R^*)}{R_c(\\gamma k - 1)^2}, \\frac{R^*}{\\gamma k - 1} \\right ]\n",
    "$$\n",
    "In order for $S^*(t)>0$, we need $\\gamma > \\frac{R_c+R^*}{R_ck}$\n",
    "<br>\n",
    "Since we find that this fixed point is essentially never stable, it is worth asking when $dR/d\\tau>0$ as a function of $S(t)$. Can resources grow when there are locusts. We get the following nulcline:\n",
    "$$\n",
    "R(t) = R_c/2 - R^*/2 \\pm \\sqrt{r^*(-4R_c\\gamma kS(t) + R_c^2r^* + \n",
    "$$"
   ]
  },
  {
   "cell_type": "code",
   "execution_count": 6,
   "metadata": {},
   "outputs": [],
   "source": [
    "##python implementation: only solitary locusts\n",
    "def solDE(S, R, Es, Rn, gamma, k, r, Rc, nu, Ebar):\n",
    "    h = R/(R+Rn)\n",
    "    \n",
    "    x = k*gamma*h - 1\n",
    "    \n",
    "    z = r*R*(1-R/Rc) - S*(x+1)\n",
    "    \n",
    "    spop = nu*S*((Es/Ebar)-1)\n",
    "    \n",
    "    return x, z, spop"
   ]
  },
  {
   "cell_type": "code",
   "execution_count": 10,
   "metadata": {},
   "outputs": [
    {
     "data": {
      "application/vnd.jupyter.widget-view+json": {
       "model_id": "01a4ace2eea44e6c8d083abfe27c8e76",
       "version_major": 2,
       "version_minor": 0
      },
      "text/plain": [
       "interactive(children=(FloatSlider(value=0.0, description='S0', max=50.0, step=0.01), IntSlider(value=190, desc…"
      ]
     },
     "metadata": {},
     "output_type": "display_data"
    }
   ],
   "source": [
    "@interact(k=(.05,1.5,.05), S0=(0,50,.01), R0=(0,1000,10), r=(0,2,.01), gamma=(.01,25,.01), nu=(.0001,.1,.0001), Ebar=(0,20,.01), Rn=(0,2000,10), Rc=(0,2000), tsteps=(0,1000000,100))\n",
    "def solsim(S0=0, R0=190, Rn=100, gamma=1.52, k=.35, r=.08, Rc=200, Ebar = 5, E0=5, nu = .0036, tsteps=100000):\n",
    "    Rc=Rn/(k*gamma - 1)\n",
    "    \n",
    "    dtau = .001\n",
    "    x = np.empty([tsteps + 1,3])\n",
    "    x[0] = [E0, R0, S0]\n",
    "    for i in range(tsteps):\n",
    "        s, z, spop = solDE(x[i][2], x[i][1], x[i][0], Rn, gamma, k, r, Rc, nu, Ebar)\n",
    "        x[i+1][0] = x[i][0]+s*dtau\n",
    "        x[i+1][1] = x[i][1]+z*dtau\n",
    "        x[i+1][2] = x[i][2]+spop*dtau\n",
    "    \n",
    "    s = [y[0] for y in x]\n",
    "    res = [y[1] for y in x]\n",
    "    spop = [y[2] for y in x]\n",
    "    \n",
    "    \n",
    "    fig, axs = plt.subplots(2)\n",
    "                   \n",
    "    axs[0].plot(range(tsteps+1), s, c='r', label='solitary locusts\\' energy')\n",
    "    axs[0].plot(range(tsteps+1), res, c='g', label='resources')\n",
    "    legend=axs[0].legend()\n",
    "    axs[1].plot(range(tsteps+1), spop, c='r', label='solitary population')\n",
    "    legend=axs[1].legend()\n",
    "    plt.xlabel('time')\n",
    "    print(\"nu\", nu)\n",
    "    \n",
    "    \n",
    "    Scrit = Rn*r*(Rc*gamma*k-Rc-Rn)/(Rc*(gamma*k-1)**2)\n",
    "    Rcrit = Rn/(gamma*k-1)\n",
    "    print(\"Scrit\", Scrit)\n",
    "    print(\"Rcrit\",Rcrit)\n",
    "    \n",
    "    gcrit = (Rc + Rn)/(Rc*k)\n",
    "    print(\"gamma for Scrit to be positive\", gcrit)\n",
    "    \n",
    "    M = Matrix([[0, 0, gamma*k*Rn/(Rcrit+Rn)**2], [nu*Scrit/Ebar, 0, 0], [0, k*gamma*Rcrit/(Rcrit+Rn), r*(1-(Rcrit/Rc))-(r*Rcrit/Rc)-(Scrit*k*gamma*Rn)/(Rcrit+Rn)**2]])\n",
    "    evals = M.eigenvals()\n",
    "    print(\"evals\",evals)\n",
    "    \n",
    "    plt.show()"
   ]
  },
  {
   "cell_type": "code",
   "execution_count": 14,
   "metadata": {},
   "outputs": [],
   "source": [
    "##Solving equilibrium\n",
    "import math\n",
    "R, S, g, k, n, r, c, b, E, v = symbols('R, S, g, k, n, r, c, b, E, v', real=True)\n",
    "y = nonlinsolve([v*S*((E/b)-1), (k*g*R/(R+n))-1, r*R*(1-(R/c)) - S*k*g*R/(R+n)], [E, S, R])\n",
    "#print(y)\n",
    "\n",
    "Scrit = n*r*(c*g*k-c-n)/(c*(g*k-1)**2)\n",
    "Rcrit = n/(g*k-1)\n",
    "c=Rcrit\n",
    "M = Matrix([[0, 0, g*k*n/(Rcrit+n)**2], [v*Scrit/b, 0, 0], [0, k*g*Rcrit/(Rcrit+n), r*(1-(Rcrit/c))-(r*Rcrit/c)-(Scrit*k*g*n)/(Rcrit+n)**2]])\n",
    "evals = M.eigenvals()\n",
    "#print(evals)\n",
    "\n",
    "##when sol is real\n",
    "#z = nonlinsolve([c*r*(c*r-4), (c*r)**2 - 4*c*r], [c, r])\n",
    "ev1 = -(sqrt((2*(-c*g*k*r + c*r + g*k*n*r + n*r)**3/(c*g**2*k**2 - c*g*k)**3 + 27*(-c*g*k*r*v + c*r*v + n*r*v)/(b*c*g*k))**2 - 4*(-c*g*k*r + c*r + g*k*n*r + n*r)**6/(c*g**2*k**2 - c*g*k)**6)/2 + (-c*g*k*r + c*r + g*k*n*r + n*r)**3/(c*g**2*k**2 - c*g*k)**3 + 27*(-c*g*k*r*v + c*r*v + n*r*v)/(2*b*c*g*k))**(1/3)/3 - (-c*g*k*r + c*r + g*k*n*r + n*r)/(3*(c*g**2*k**2 - c*g*k)) - (-c*g*k*r + c*r + g*k*n*r + n*r)**2/(3*(c*g**2*k**2 - c*g*k)**2*(sqrt((2*(-c*g*k*r + c*r + g*k*n*r + n*r)**3/(c*g**2*k**2 - c*g*k)**3 + 27*(-c*g*k*r*v + c*r*v + n*r*v)/(b*c*g*k))**2 - 4*(-c*g*k*r + c*r + g*k*n*r + n*r)**6/(c*g**2*k**2 - c*g*k)**6)/2 + (-c*g*k*r + c*r + g*k*n*r + n*r)**3/(c*g**2*k**2 - c*g*k)**3 + 27*(-c*g*k*r*v + c*r*v + n*r*v)/(2*b*c*g*k))**(1/3))\n",
    "ev2 = -(-1/2 + sqrt(3)*I/2)*(sqrt((2*(-c*g*k*r + c*r + g*k*n*r + n*r)**3/(c*g**2*k**2 - c*g*k)**3 + 27*(-c*g*k*r*v + c*r*v + n*r*v)/(b*c*g*k))**2 - 4*(-c*g*k*r + c*r + g*k*n*r + n*r)**6/(c*g**2*k**2 - c*g*k)**6)/2 + (-c*g*k*r + c*r + g*k*n*r + n*r)**3/(c*g**2*k**2 - c*g*k)**3 + 27*(-c*g*k*r*v + c*r*v + n*r*v)/(2*b*c*g*k))**(1/3)/3 - (-c*g*k*r + c*r + g*k*n*r + n*r)/(3*(c*g**2*k**2 - c*g*k)) - (-c*g*k*r + c*r + g*k*n*r + n*r)**2/(3*(-1/2 + sqrt(3)*I/2)*(c*g**2*k**2 - c*g*k)**2*(sqrt((2*(-c*g*k*r + c*r + g*k*n*r + n*r)**3/(c*g**2*k**2 - c*g*k)**3 + 27*(-c*g*k*r*v + c*r*v + n*r*v)/(b*c*g*k))**2 - 4*(-c*g*k*r + c*r + g*k*n*r + n*r)**6/(c*g**2*k**2 - c*g*k)**6)/2 + (-c*g*k*r + c*r + g*k*n*r + n*r)**3/(c*g**2*k**2 - c*g*k)**3 + 27*(-c*g*k*r*v + c*r*v + n*r*v)/(2*b*c*g*k))**(1/3))\n",
    "ev3 = -(-1/2 - sqrt(3)*I/2)*(sqrt((2*(-c*g*k*r + c*r + g*k*n*r + n*r)**3/(c*g**2*k**2 - c*g*k)**3 + 27*(-c*g*k*r*v + c*r*v + n*r*v)/(b*c*g*k))**2 - 4*(-c*g*k*r + c*r + g*k*n*r + n*r)**6/(c*g**2*k**2 - c*g*k)**6)/2 + (-c*g*k*r + c*r + g*k*n*r + n*r)**3/(c*g**2*k**2 - c*g*k)**3 + 27*(-c*g*k*r*v + c*r*v + n*r*v)/(2*b*c*g*k))**(1/3)/3 - (-c*g*k*r + c*r + g*k*n*r + n*r)/(3*(c*g**2*k**2 - c*g*k)) - (-c*g*k*r + c*r + g*k*n*r + n*r)**2/(3*(-1/2 - sqrt(3)*I/2)*(c*g**2*k**2 - c*g*k)**2*(sqrt((2*(-c*g*k*r + c*r + g*k*n*r + n*r)**3/(c*g**2*k**2 - c*g*k)**3 + 27*(-c*g*k*r*v + c*r*v + n*r*v)/(b*c*g*k))**2 - 4*(-c*g*k*r + c*r + g*k*n*r + n*r)**6/(c*g**2*k**2 - c*g*k)**6)/2 + (-c*g*k*r + c*r + g*k*n*r + n*r)**3/(c*g**2*k**2 - c*g*k)**3 + 27*(-c*g*k*r*v + c*r*v + n*r*v)/(2*b*c*g*k))**(1/3))\n",
    "\n",
    "#hope = nonlinsolve([ev1, ev2, ev3], [g, r])\n",
    "#print(hope)"
   ]
  },
  {
   "cell_type": "code",
   "execution_count": 6,
   "metadata": {},
   "outputs": [],
   "source": [
    "##plotting eigenvalues as a function of gamma\n",
    "def compevals(gamma, Rn=100, k=.35, r=.02, Rc=200, Ebar = .1, nu = .0036):\n",
    "    Scrit = Rn*r*(Rc*gamma*k-Rc-Rn)/(Rc*(gamma*k-1)**2)\n",
    "    Rcrit = Rn/(gamma*k-1) \n",
    "    \n",
    "    init_printing(use_unicode=True)\n",
    "    M = Matrix([[0, 0, gamma*k*Rn/(Rcrit+Rn)**2], [nu*Scrit/Ebar, 0, 0], [0, k*gamma*Rcrit/(Rcrit+Rn), r*(1-(Rcrit/Rc))-(r*Rcrit/Rc)-(Scrit*k*gamma*Rn)/(Rcrit+Rn)**2]])\n",
    "    evals = M.eigenvals()\n",
    "    \n",
    "    return evals\n"
   ]
  },
  {
   "cell_type": "code",
   "execution_count": 13,
   "metadata": {},
   "outputs": [
    {
     "name": "stdout",
     "output_type": "stream",
     "text": [
      "1000\n"
     ]
    },
    {
     "data": {
      "image/png": "[encoded data removed]",
      "text/plain": [
       "<Figure size 432x288 with 1 Axes>"
      ]
     },
     "metadata": {
      "needs_background": "light"
     },
     "output_type": "display_data"
    }
   ],
   "source": [
    "def plotevals(Rn=100, k=.35, r=.02, Rc=200, Ebar = .1, nu = .0036):\n",
    "    nu = np.linspace(-1,1,1000)\n",
    "    gamma = ((Rc+Rn)/(Rc*k))+1\n",
    "    evals = [compevals(gamma, Rn, k, r, Rc, Ebar, n) for n in nu]\n",
    "    \n",
    "    ev1 = []\n",
    "    ev2 = []\n",
    "    ev3 = []\n",
    "    \n",
    "    for i in range(len(evals)):\n",
    "        vals = list(evals[i].keys())\n",
    "        ev1.append(re(vals[0]))\n",
    "        ev2.append(re(vals[1]))\n",
    "        ev3.append(re(vals[2]))\n",
    "    n=0\n",
    "    for i, j, k in zip(ev1, ev2, ev3):\n",
    "        if i <= 0 and j <= 0 and k <= 0:\n",
    "            print(n)\n",
    "        else:\n",
    "            n += 1\n",
    "    print(n)       \n",
    "    \n",
    "    plt.plot(range(len(evals)), ev1, label='ev1')\n",
    "    plt.plot(range(len(evals)), ev2, label='ev2')\n",
    "    plt.plot(range(len(evals)), ev3, label='ev3')\n",
    "    legend=plt.legend()\n",
    "    \n",
    "    plt.show()\n",
    "plotevals()"
   ]
  },
  {
   "cell_type": "code",
   "execution_count": 15,
   "metadata": {},
   "outputs": [
    {
     "name": "stdout",
     "output_type": "stream",
     "text": [
      "FiniteSet((c/2 - n/2 - sqrt(r*(-4*S*c*g*k + c**2*r + 2*c*n*r + n**2*r))/(2*r),), (c/2 - n/2 + sqrt(r*(-4*S*c*g*k + c**2*r + 2*c*n*r + n**2*r))/(2*r),))\n"
     ]
    }
   ],
   "source": [
    "##can dR/dtau > 0 when S(t) > 0? nullcline for R(t):\n",
    "import math\n",
    "R, S, g, k, n, r, c, b, E, v = symbols('R, S, g, k, n, r, c, b, E, v', real=True)\n",
    "y = nonlinsolve([(-r/c)*R**2+r*R*(1-(n/c))+r*n-k*g*S],[R])\n",
    "print(y)"
   ]
  },
  {
   "cell_type": "markdown",
   "metadata": {},
   "source": [
    "<h3>Stability analysis of genetic algorithm (Under Construction)</h3>\n",
    "One question that we need to investigate is determining when $\\frac{dE_S}{d\\tau} > 0$ and $\\frac{dE_G}{d\\tau} > 0$. One thing that we find is that for high resources, $E_S$ may be bistable depending on $S(t)$:\n",
    "$$\n",
    "\\frac{dE_S}{d\\tau} = 0 = k\\gamma p_sS(t)\\frac{R(t)}{R(t)+R^*} - 1\n",
    "$$\n",
    "rearranging yields\n",
    "$$\n",
    "k\\gamma p_s S(t) = \\frac{R(t)+R^*}{R(t)}\n",
    "$$\n",
    "which for high resources evaluates to \n",
    "$$\n",
    "k\\gamma p_s S(t) \\approx 1\n",
    "$$\n",
    "which yields the polynomial\n",
    "$$\n",
    "S^2(t)k\\gamma - S(t) - G(t) = 0\n",
    "$$\n",
    "and solving via the quadratic formula, we find that $\\frac{dE_S}{d\\tau} > 0$ when\n",
    "$$\n",
    "S(t) > \\frac{-1 + \\sqrt{1+4k\\gamma G(t)}}{2k\\gamma} \\text{ or } S(t) < \\frac{-1 - \\sqrt{1+4k\\gamma G(t)}}{2k\\gamma}\n",
    "$$\n",
    "However, the second solution would always be negative, so we should only really care about the first one.<br>\n",
    "To find out when S(t) might be greater than this critical value, we can find the fixed points of $\\frac{dS}{d\\tau}$\n",
    "$$\n",
    "\\frac{dS}{d\\tau} = 0 = \\nu_*S(t)(\\frac{E_S}{\\bar{E}}-1)\n",
    "$$\n",
    "which requires either $S(t) = 0$ or $E_S = \\bar{E}$.\n",
    "<br>\n",
    "<br>\n",
    "Looking back on the equilibrium analysis for $R$, we find that $dR/d\\tau=0$ when \n",
    "$$\n",
    "R(t) = \\frac{-r^*(1 - \\frac{R^*}{R_c}) \\pm \\sqrt{(r^*(1-\\frac{R^*}{R_c}))^2 + 4(\\frac{r^*}{R_c}(r^*R^*-\\gamma\\kappa))}}{2r^*/R_c}\n",
    "$$\n",
    "We also find that $dE_S/d\\tau=0$ (without approximating for high resources) when\n",
    "$$\n",
    "R_{S^*}(t) = \\frac{-R^*}{1-\\gamma kp_sS(t)}\n",
    "$$\n",
    "And that $dE_G/d\\tau=0$ when \n",
    "$$\n",
    "R_{G^*}(t) = \\frac{-\\mu_lR^*}{\\mu_l - \\gamma\\beta G(t)}\n",
    "$$\n",
    "Setting $R_{G^*}(t)=R_{S^*}(t)$ yields\n",
    "$$\n",
    "G(t) = \\frac{\\mu_lkp_s}{\\beta}S(t)\n",
    "$$\n",
    "*This is where I am getting stuck. According to wolfram alpha G(t) evaluates to:*\n",
    "$$\n",
    "x = (2 k^3 s^6 u^3 + 3 k^2 s^5 u^2 + sqrt((2 k^3 s^6 u^3 + 3 k^2 s^5 u^2 - 9 k s^5 u - 3 k s^4 u + 27 k s^4 - 18 s^4 - 2 s^3)^2 + 4 (3 (s^3 - k s^3 u) - (s - k s^2 u)^2)^3) - 9 k s^5 u - 3 k s^4 u + 27 k s^4 - 18 s^4 - 2 s^3)^(1/3)/(3 2^(1/3)) - (2^(1/3) (3 (s^3 - k s^3 u) - (s - k s^2 u)^2))/(3 (2 k^3 s^6 u^3 + 3 k^2 s^5 u^2 + sqrt((2 k^3 s^6 u^3 + 3 k^2 s^5 u^2 - 9 k s^5 u - 3 k s^4 u + 27 k s^4 - 18 s^4 - 2 s^3)^2 + 4 (3 (s^3 - k s^3 u) - (s - k s^2 u)^2)^3) - 9 k s^5 u - 3 k s^4 u + 27 k s^4 - 18 s^4 - 2 s^3)^(1/3)) + 1/3 (k s^2 u - s)\n",
    "$$\n",
    "where $x=G(t), s=S(t), u = \\mu_l$"
   ]
  },
  {
   "cell_type": "code",
   "execution_count": 4,
   "metadata": {},
   "outputs": [
    {
     "ename": "KeyboardInterrupt",
     "evalue": "",
     "output_type": "error",
     "traceback": [
      "\u001b[1;31m---------------------------------------------------------------------------\u001b[0m",
      "\u001b[1;31mKeyboardInterrupt\u001b[0m                         Traceback (most recent call last)",
      "\u001b[1;32m<ipython-input-4-dfd3d51ed40e>\u001b[0m in \u001b[0;36m<module>\u001b[1;34m\u001b[0m\n\u001b[0;32m      1\u001b[0m \u001b[1;32mimport\u001b[0m \u001b[0mmath\u001b[0m\u001b[1;33m\u001b[0m\u001b[1;33m\u001b[0m\u001b[0m\n\u001b[0;32m      2\u001b[0m \u001b[0mR\u001b[0m\u001b[1;33m,\u001b[0m \u001b[0mS\u001b[0m\u001b[1;33m,\u001b[0m \u001b[0mG\u001b[0m\u001b[1;33m,\u001b[0m \u001b[0ma\u001b[0m\u001b[1;33m,\u001b[0m \u001b[0mk\u001b[0m\u001b[1;33m,\u001b[0m \u001b[0mn\u001b[0m\u001b[1;33m,\u001b[0m \u001b[0mr\u001b[0m\u001b[1;33m,\u001b[0m \u001b[0mc\u001b[0m\u001b[1;33m,\u001b[0m \u001b[0mu\u001b[0m \u001b[1;33m=\u001b[0m \u001b[0msymbols\u001b[0m\u001b[1;33m(\u001b[0m\u001b[1;34m'R, S, G, a, k, n, r, c, u'\u001b[0m\u001b[1;33m,\u001b[0m \u001b[0mreal\u001b[0m\u001b[1;33m=\u001b[0m\u001b[1;32mTrue\u001b[0m\u001b[1;33m)\u001b[0m\u001b[1;33m\u001b[0m\u001b[1;33m\u001b[0m\u001b[0m\n\u001b[1;32m----> 3\u001b[1;33m \u001b[0my\u001b[0m \u001b[1;33m=\u001b[0m \u001b[0mnonlinsolve\u001b[0m\u001b[1;33m(\u001b[0m\u001b[1;33m[\u001b[0m\u001b[1;33m(\u001b[0m\u001b[0mk\u001b[0m\u001b[1;33m*\u001b[0m\u001b[0ma\u001b[0m\u001b[1;33m*\u001b[0m\u001b[0mS\u001b[0m\u001b[1;33m*\u001b[0m\u001b[0mR\u001b[0m\u001b[1;33m/\u001b[0m\u001b[1;33m(\u001b[0m\u001b[1;33m(\u001b[0m\u001b[0mS\u001b[0m\u001b[1;33m+\u001b[0m\u001b[0mG\u001b[0m\u001b[1;33m)\u001b[0m\u001b[1;33m*\u001b[0m\u001b[1;33m(\u001b[0m\u001b[0mR\u001b[0m\u001b[1;33m+\u001b[0m\u001b[0mn\u001b[0m\u001b[1;33m)\u001b[0m\u001b[1;33m)\u001b[0m\u001b[1;33m)\u001b[0m\u001b[1;33m-\u001b[0m\u001b[1;36m1\u001b[0m\u001b[1;33m,\u001b[0m \u001b[1;33m(\u001b[0m\u001b[0ma\u001b[0m\u001b[1;33m*\u001b[0m\u001b[0mR\u001b[0m\u001b[1;33m/\u001b[0m\u001b[1;33m(\u001b[0m\u001b[0mR\u001b[0m\u001b[1;33m+\u001b[0m\u001b[0mn\u001b[0m\u001b[1;33m)\u001b[0m\u001b[1;33m)\u001b[0m\u001b[1;33m*\u001b[0m\u001b[1;33m(\u001b[0m\u001b[1;33m(\u001b[0m\u001b[1;33m(\u001b[0m\u001b[0mS\u001b[0m\u001b[1;33m**\u001b[0m\u001b[1;36m2\u001b[0m\u001b[1;33m)\u001b[0m\u001b[1;33m/\u001b[0m\u001b[0mG\u001b[0m\u001b[1;33m*\u001b[0m\u001b[1;33m(\u001b[0m\u001b[0mS\u001b[0m\u001b[1;33m+\u001b[0m\u001b[0mG\u001b[0m\u001b[1;33m)\u001b[0m\u001b[1;33m)\u001b[0m\u001b[1;33m*\u001b[0m\u001b[1;33m(\u001b[0m\u001b[1;36m1\u001b[0m\u001b[1;33m-\u001b[0m\u001b[1;33m(\u001b[0m\u001b[0mk\u001b[0m\u001b[1;33m*\u001b[0m\u001b[0mS\u001b[0m\u001b[1;33m/\u001b[0m\u001b[1;33m(\u001b[0m\u001b[0mS\u001b[0m\u001b[1;33m+\u001b[0m\u001b[0mG\u001b[0m\u001b[1;33m)\u001b[0m\u001b[1;33m)\u001b[0m\u001b[1;33m)\u001b[0m \u001b[1;33m+\u001b[0m \u001b[1;33m(\u001b[0m\u001b[0mG\u001b[0m\u001b[1;33m/\u001b[0m\u001b[1;33m(\u001b[0m\u001b[0mS\u001b[0m\u001b[1;33m+\u001b[0m\u001b[0mG\u001b[0m\u001b[1;33m)\u001b[0m\u001b[1;33m)\u001b[0m\u001b[1;33m)\u001b[0m \u001b[1;33m-\u001b[0m \u001b[0mu\u001b[0m\u001b[1;33m,\u001b[0m \u001b[0mr\u001b[0m\u001b[1;33m*\u001b[0m\u001b[0mR\u001b[0m\u001b[1;33m*\u001b[0m\u001b[1;33m(\u001b[0m\u001b[1;36m1\u001b[0m\u001b[1;33m-\u001b[0m\u001b[1;33m(\u001b[0m\u001b[0mR\u001b[0m\u001b[1;33m/\u001b[0m\u001b[0mc\u001b[0m\u001b[1;33m)\u001b[0m\u001b[1;33m)\u001b[0m \u001b[1;33m-\u001b[0m \u001b[1;33m(\u001b[0m\u001b[0ma\u001b[0m\u001b[1;33m*\u001b[0m\u001b[0mR\u001b[0m\u001b[1;33m/\u001b[0m\u001b[1;33m(\u001b[0m\u001b[0mR\u001b[0m\u001b[1;33m+\u001b[0m\u001b[0mn\u001b[0m\u001b[1;33m)\u001b[0m\u001b[1;33m)\u001b[0m\u001b[1;33m*\u001b[0m\u001b[1;33m(\u001b[0m\u001b[1;33m(\u001b[0m\u001b[1;33m(\u001b[0m\u001b[0mS\u001b[0m\u001b[1;33m**\u001b[0m\u001b[1;36m2\u001b[0m\u001b[1;33m)\u001b[0m\u001b[1;33m/\u001b[0m\u001b[0mG\u001b[0m\u001b[1;33m*\u001b[0m\u001b[1;33m(\u001b[0m\u001b[0mS\u001b[0m\u001b[1;33m+\u001b[0m\u001b[0mG\u001b[0m\u001b[1;33m)\u001b[0m\u001b[1;33m)\u001b[0m\u001b[1;33m*\u001b[0m\u001b[1;33m(\u001b[0m\u001b[1;36m1\u001b[0m\u001b[1;33m-\u001b[0m\u001b[1;33m(\u001b[0m\u001b[0mk\u001b[0m\u001b[1;33m*\u001b[0m\u001b[0mS\u001b[0m\u001b[1;33m/\u001b[0m\u001b[1;33m(\u001b[0m\u001b[0mS\u001b[0m\u001b[1;33m+\u001b[0m\u001b[0mG\u001b[0m\u001b[1;33m)\u001b[0m\u001b[1;33m)\u001b[0m\u001b[1;33m)\u001b[0m \u001b[1;33m+\u001b[0m \u001b[1;33m(\u001b[0m\u001b[0mG\u001b[0m\u001b[1;33m/\u001b[0m\u001b[1;33m(\u001b[0m\u001b[0mS\u001b[0m\u001b[1;33m+\u001b[0m\u001b[0mG\u001b[0m\u001b[1;33m)\u001b[0m\u001b[1;33m)\u001b[0m\u001b[1;33m)\u001b[0m \u001b[1;33m-\u001b[0m \u001b[1;33m(\u001b[0m\u001b[0mk\u001b[0m\u001b[1;33m*\u001b[0m\u001b[0ma\u001b[0m\u001b[1;33m*\u001b[0m\u001b[0mS\u001b[0m\u001b[1;33m*\u001b[0m\u001b[0mR\u001b[0m\u001b[1;33m/\u001b[0m\u001b[1;33m(\u001b[0m\u001b[1;33m(\u001b[0m\u001b[0mS\u001b[0m\u001b[1;33m+\u001b[0m\u001b[0mG\u001b[0m\u001b[1;33m)\u001b[0m\u001b[1;33m*\u001b[0m\u001b[1;33m(\u001b[0m\u001b[0mR\u001b[0m\u001b[1;33m+\u001b[0m\u001b[0mn\u001b[0m\u001b[1;33m)\u001b[0m\u001b[1;33m)\u001b[0m\u001b[1;33m)\u001b[0m\u001b[1;33m]\u001b[0m\u001b[1;33m,\u001b[0m \u001b[1;33m[\u001b[0m\u001b[0mS\u001b[0m\u001b[1;33m,\u001b[0m\u001b[0mG\u001b[0m\u001b[1;33m,\u001b[0m\u001b[0mR\u001b[0m\u001b[1;33m]\u001b[0m\u001b[1;33m)\u001b[0m\u001b[1;33m\u001b[0m\u001b[1;33m\u001b[0m\u001b[0m\n\u001b[0m\u001b[0;32m      4\u001b[0m \u001b[0mprint\u001b[0m\u001b[1;33m(\u001b[0m\u001b[0my\u001b[0m\u001b[1;33m)\u001b[0m\u001b[1;33m\u001b[0m\u001b[1;33m\u001b[0m\u001b[0m\n",
      "\u001b[1;32m~\\Anaconda3\\lib\\site-packages\\sympy\\solvers\\solveset.py\u001b[0m in \u001b[0;36mnonlinsolve\u001b[1;34m(system, *symbols)\u001b[0m\n\u001b[0;32m   3421\u001b[0m     \u001b[1;32mif\u001b[0m \u001b[0mlen\u001b[0m\u001b[1;33m(\u001b[0m\u001b[0msymbols\u001b[0m\u001b[1;33m)\u001b[0m \u001b[1;33m==\u001b[0m \u001b[0mlen\u001b[0m\u001b[1;33m(\u001b[0m\u001b[0mpolys\u001b[0m\u001b[1;33m)\u001b[0m\u001b[1;33m:\u001b[0m\u001b[1;33m\u001b[0m\u001b[1;33m\u001b[0m\u001b[0m\n\u001b[0;32m   3422\u001b[0m         \u001b[1;31m# If all the equations in the system are poly\u001b[0m\u001b[1;33m\u001b[0m\u001b[1;33m\u001b[0m\u001b[1;33m\u001b[0m\u001b[0m\n\u001b[1;32m-> 3423\u001b[1;33m         \u001b[1;32mif\u001b[0m \u001b[0mis_zero_dimensional\u001b[0m\u001b[1;33m(\u001b[0m\u001b[0mpolys\u001b[0m\u001b[1;33m,\u001b[0m \u001b[0msymbols\u001b[0m\u001b[1;33m)\u001b[0m\u001b[1;33m:\u001b[0m\u001b[1;33m\u001b[0m\u001b[1;33m\u001b[0m\u001b[0m\n\u001b[0m\u001b[0;32m   3424\u001b[0m             \u001b[1;31m# finite number of soln (Zero dimensional system)\u001b[0m\u001b[1;33m\u001b[0m\u001b[1;33m\u001b[0m\u001b[1;33m\u001b[0m\u001b[0m\n\u001b[0;32m   3425\u001b[0m             \u001b[1;32mtry\u001b[0m\u001b[1;33m:\u001b[0m\u001b[1;33m\u001b[0m\u001b[1;33m\u001b[0m\u001b[0m\n",
      "\u001b[1;32m~\\Anaconda3\\lib\\site-packages\\sympy\\polys\\polytools.py\u001b[0m in \u001b[0;36mis_zero_dimensional\u001b[1;34m(F, *gens, **args)\u001b[0m\n\u001b[0;32m   6835\u001b[0m \u001b[1;33m\u001b[0m\u001b[0m\n\u001b[0;32m   6836\u001b[0m     \"\"\"\n\u001b[1;32m-> 6837\u001b[1;33m     \u001b[1;32mreturn\u001b[0m \u001b[0mGroebnerBasis\u001b[0m\u001b[1;33m(\u001b[0m\u001b[0mF\u001b[0m\u001b[1;33m,\u001b[0m \u001b[1;33m*\u001b[0m\u001b[0mgens\u001b[0m\u001b[1;33m,\u001b[0m \u001b[1;33m**\u001b[0m\u001b[0margs\u001b[0m\u001b[1;33m)\u001b[0m\u001b[1;33m.\u001b[0m\u001b[0mis_zero_dimensional\u001b[0m\u001b[1;33m\u001b[0m\u001b[1;33m\u001b[0m\u001b[0m\n\u001b[0m\u001b[0;32m   6838\u001b[0m \u001b[1;33m\u001b[0m\u001b[0m\n\u001b[0;32m   6839\u001b[0m \u001b[1;33m\u001b[0m\u001b[0m\n",
      "\u001b[1;32m~\\Anaconda3\\lib\\site-packages\\sympy\\polys\\polytools.py\u001b[0m in \u001b[0;36m__new__\u001b[1;34m(cls, F, *gens, **args)\u001b[0m\n\u001b[0;32m   6856\u001b[0m         \u001b[0mpolys\u001b[0m \u001b[1;33m=\u001b[0m \u001b[1;33m[\u001b[0m\u001b[0mring\u001b[0m\u001b[1;33m.\u001b[0m\u001b[0mfrom_dict\u001b[0m\u001b[1;33m(\u001b[0m\u001b[0mpoly\u001b[0m\u001b[1;33m.\u001b[0m\u001b[0mrep\u001b[0m\u001b[1;33m.\u001b[0m\u001b[0mto_dict\u001b[0m\u001b[1;33m(\u001b[0m\u001b[1;33m)\u001b[0m\u001b[1;33m)\u001b[0m \u001b[1;32mfor\u001b[0m \u001b[0mpoly\u001b[0m \u001b[1;32min\u001b[0m \u001b[0mpolys\u001b[0m \u001b[1;32mif\u001b[0m \u001b[0mpoly\u001b[0m\u001b[1;33m]\u001b[0m\u001b[1;33m\u001b[0m\u001b[1;33m\u001b[0m\u001b[0m\n\u001b[0;32m   6857\u001b[0m \u001b[1;33m\u001b[0m\u001b[0m\n\u001b[1;32m-> 6858\u001b[1;33m         \u001b[0mG\u001b[0m \u001b[1;33m=\u001b[0m \u001b[0m_groebner\u001b[0m\u001b[1;33m(\u001b[0m\u001b[0mpolys\u001b[0m\u001b[1;33m,\u001b[0m \u001b[0mring\u001b[0m\u001b[1;33m,\u001b[0m \u001b[0mmethod\u001b[0m\u001b[1;33m=\u001b[0m\u001b[0mopt\u001b[0m\u001b[1;33m.\u001b[0m\u001b[0mmethod\u001b[0m\u001b[1;33m)\u001b[0m\u001b[1;33m\u001b[0m\u001b[1;33m\u001b[0m\u001b[0m\n\u001b[0m\u001b[0;32m   6859\u001b[0m         \u001b[0mG\u001b[0m \u001b[1;33m=\u001b[0m \u001b[1;33m[\u001b[0m\u001b[0mPoly\u001b[0m\u001b[1;33m.\u001b[0m\u001b[0m_from_dict\u001b[0m\u001b[1;33m(\u001b[0m\u001b[0mg\u001b[0m\u001b[1;33m,\u001b[0m \u001b[0mopt\u001b[0m\u001b[1;33m)\u001b[0m \u001b[1;32mfor\u001b[0m \u001b[0mg\u001b[0m \u001b[1;32min\u001b[0m \u001b[0mG\u001b[0m\u001b[1;33m]\u001b[0m\u001b[1;33m\u001b[0m\u001b[1;33m\u001b[0m\u001b[0m\n\u001b[0;32m   6860\u001b[0m \u001b[1;33m\u001b[0m\u001b[0m\n",
      "\u001b[1;32m~\\Anaconda3\\lib\\site-packages\\sympy\\polys\\groebnertools.py\u001b[0m in \u001b[0;36mgroebner\u001b[1;34m(seq, ring, method)\u001b[0m\n\u001b[0;32m     42\u001b[0m             \u001b[0mseq\u001b[0m \u001b[1;33m=\u001b[0m \u001b[1;33m[\u001b[0m \u001b[0ms\u001b[0m\u001b[1;33m.\u001b[0m\u001b[0mset_ring\u001b[0m\u001b[1;33m(\u001b[0m\u001b[0mring\u001b[0m\u001b[1;33m)\u001b[0m \u001b[1;32mfor\u001b[0m \u001b[0ms\u001b[0m \u001b[1;32min\u001b[0m \u001b[0mseq\u001b[0m \u001b[1;33m]\u001b[0m\u001b[1;33m\u001b[0m\u001b[1;33m\u001b[0m\u001b[0m\n\u001b[0;32m     43\u001b[0m \u001b[1;33m\u001b[0m\u001b[0m\n\u001b[1;32m---> 44\u001b[1;33m     \u001b[0mG\u001b[0m \u001b[1;33m=\u001b[0m \u001b[0m_groebner\u001b[0m\u001b[1;33m(\u001b[0m\u001b[0mseq\u001b[0m\u001b[1;33m,\u001b[0m \u001b[0mring\u001b[0m\u001b[1;33m)\u001b[0m\u001b[1;33m\u001b[0m\u001b[1;33m\u001b[0m\u001b[0m\n\u001b[0m\u001b[0;32m     45\u001b[0m \u001b[1;33m\u001b[0m\u001b[0m\n\u001b[0;32m     46\u001b[0m     \u001b[1;32mif\u001b[0m \u001b[0morig\u001b[0m \u001b[1;32mis\u001b[0m \u001b[1;32mnot\u001b[0m \u001b[1;32mNone\u001b[0m\u001b[1;33m:\u001b[0m\u001b[1;33m\u001b[0m\u001b[1;33m\u001b[0m\u001b[0m\n",
      "\u001b[1;32m~\\Anaconda3\\lib\\site-packages\\sympy\\polys\\groebnertools.py\u001b[0m in \u001b[0;36m_buchberger\u001b[1;34m(f, ring)\u001b[0m\n\u001b[0;32m    237\u001b[0m         \u001b[1;31m# ordering divisors is on average more efficient [Cox] page 111\u001b[0m\u001b[1;33m\u001b[0m\u001b[1;33m\u001b[0m\u001b[1;33m\u001b[0m\u001b[0m\n\u001b[0;32m    238\u001b[0m         \u001b[0mG1\u001b[0m \u001b[1;33m=\u001b[0m \u001b[0msorted\u001b[0m\u001b[1;33m(\u001b[0m\u001b[0mG\u001b[0m\u001b[1;33m,\u001b[0m \u001b[0mkey\u001b[0m\u001b[1;33m=\u001b[0m\u001b[1;32mlambda\u001b[0m \u001b[0mg\u001b[0m\u001b[1;33m:\u001b[0m \u001b[0morder\u001b[0m\u001b[1;33m(\u001b[0m\u001b[0mf\u001b[0m\u001b[1;33m[\u001b[0m\u001b[0mg\u001b[0m\u001b[1;33m]\u001b[0m\u001b[1;33m.\u001b[0m\u001b[0mLM\u001b[0m\u001b[1;33m)\u001b[0m\u001b[1;33m)\u001b[0m\u001b[1;33m\u001b[0m\u001b[1;33m\u001b[0m\u001b[0m\n\u001b[1;32m--> 239\u001b[1;33m         \u001b[0mht\u001b[0m \u001b[1;33m=\u001b[0m \u001b[0mnormal\u001b[0m\u001b[1;33m(\u001b[0m\u001b[0mh\u001b[0m\u001b[1;33m,\u001b[0m \u001b[0mG1\u001b[0m\u001b[1;33m)\u001b[0m\u001b[1;33m\u001b[0m\u001b[1;33m\u001b[0m\u001b[0m\n\u001b[0m\u001b[0;32m    240\u001b[0m \u001b[1;33m\u001b[0m\u001b[0m\n\u001b[0;32m    241\u001b[0m         \u001b[1;32mif\u001b[0m \u001b[0mht\u001b[0m\u001b[1;33m:\u001b[0m\u001b[1;33m\u001b[0m\u001b[1;33m\u001b[0m\u001b[0m\n",
      "\u001b[1;32m~\\Anaconda3\\lib\\site-packages\\sympy\\polys\\groebnertools.py\u001b[0m in \u001b[0;36mnormal\u001b[1;34m(g, J)\u001b[0m\n\u001b[0;32m    103\u001b[0m \u001b[1;33m\u001b[0m\u001b[0m\n\u001b[0;32m    104\u001b[0m     \u001b[1;32mdef\u001b[0m \u001b[0mnormal\u001b[0m\u001b[1;33m(\u001b[0m\u001b[0mg\u001b[0m\u001b[1;33m,\u001b[0m \u001b[0mJ\u001b[0m\u001b[1;33m)\u001b[0m\u001b[1;33m:\u001b[0m\u001b[1;33m\u001b[0m\u001b[1;33m\u001b[0m\u001b[0m\n\u001b[1;32m--> 105\u001b[1;33m         \u001b[0mh\u001b[0m \u001b[1;33m=\u001b[0m \u001b[0mg\u001b[0m\u001b[1;33m.\u001b[0m\u001b[0mrem\u001b[0m\u001b[1;33m(\u001b[0m\u001b[1;33m[\u001b[0m \u001b[0mf\u001b[0m\u001b[1;33m[\u001b[0m\u001b[0mj\u001b[0m\u001b[1;33m]\u001b[0m \u001b[1;32mfor\u001b[0m \u001b[0mj\u001b[0m \u001b[1;32min\u001b[0m \u001b[0mJ\u001b[0m \u001b[1;33m]\u001b[0m\u001b[1;33m)\u001b[0m\u001b[1;33m\u001b[0m\u001b[1;33m\u001b[0m\u001b[0m\n\u001b[0m\u001b[0;32m    106\u001b[0m \u001b[1;33m\u001b[0m\u001b[0m\n\u001b[0;32m    107\u001b[0m         \u001b[1;32mif\u001b[0m \u001b[1;32mnot\u001b[0m \u001b[0mh\u001b[0m\u001b[1;33m:\u001b[0m\u001b[1;33m\u001b[0m\u001b[1;33m\u001b[0m\u001b[0m\n",
      "\u001b[1;32m~\\Anaconda3\\lib\\site-packages\\sympy\\polys\\rings.py\u001b[0m in \u001b[0;36mrem\u001b[1;34m(self, G)\u001b[0m\n\u001b[0;32m   1488\u001b[0m                     \u001b[1;32mfor\u001b[0m \u001b[0mmg\u001b[0m\u001b[1;33m,\u001b[0m \u001b[0mcg\u001b[0m \u001b[1;32min\u001b[0m \u001b[0mg\u001b[0m\u001b[1;33m.\u001b[0m\u001b[0miterterms\u001b[0m\u001b[1;33m(\u001b[0m\u001b[1;33m)\u001b[0m\u001b[1;33m:\u001b[0m\u001b[1;33m\u001b[0m\u001b[1;33m\u001b[0m\u001b[0m\n\u001b[0;32m   1489\u001b[0m                         \u001b[0mm1\u001b[0m \u001b[1;33m=\u001b[0m \u001b[0mmonomial_mul\u001b[0m\u001b[1;33m(\u001b[0m\u001b[0mmg\u001b[0m\u001b[1;33m,\u001b[0m \u001b[0mm\u001b[0m\u001b[1;33m)\u001b[0m\u001b[1;33m\u001b[0m\u001b[1;33m\u001b[0m\u001b[0m\n\u001b[1;32m-> 1490\u001b[1;33m                         \u001b[0mc1\u001b[0m \u001b[1;33m=\u001b[0m \u001b[0mget\u001b[0m\u001b[1;33m(\u001b[0m\u001b[0mm1\u001b[0m\u001b[1;33m,\u001b[0m \u001b[0mzero\u001b[0m\u001b[1;33m)\u001b[0m \u001b[1;33m-\u001b[0m \u001b[0mc\u001b[0m\u001b[1;33m*\u001b[0m\u001b[0mcg\u001b[0m\u001b[1;33m\u001b[0m\u001b[1;33m\u001b[0m\u001b[0m\n\u001b[0m\u001b[0;32m   1491\u001b[0m                         \u001b[1;32mif\u001b[0m \u001b[1;32mnot\u001b[0m \u001b[0mc1\u001b[0m\u001b[1;33m:\u001b[0m\u001b[1;33m\u001b[0m\u001b[1;33m\u001b[0m\u001b[0m\n\u001b[0;32m   1492\u001b[0m                             \u001b[1;32mdel\u001b[0m \u001b[0mf\u001b[0m\u001b[1;33m[\u001b[0m\u001b[0mm1\u001b[0m\u001b[1;33m]\u001b[0m\u001b[1;33m\u001b[0m\u001b[1;33m\u001b[0m\u001b[0m\n",
      "\u001b[1;32m~\\Anaconda3\\lib\\site-packages\\sympy\\polys\\fields.py\u001b[0m in \u001b[0;36m__sub__\u001b[1;34m(f, g)\u001b[0m\n\u001b[0;32m    427\u001b[0m                 \u001b[1;32mreturn\u001b[0m \u001b[0mf\u001b[0m\u001b[1;33m.\u001b[0m\u001b[0mnew\u001b[0m\u001b[1;33m(\u001b[0m\u001b[0mf\u001b[0m\u001b[1;33m.\u001b[0m\u001b[0mnumer\u001b[0m \u001b[1;33m-\u001b[0m \u001b[0mg\u001b[0m\u001b[1;33m.\u001b[0m\u001b[0mnumer\u001b[0m\u001b[1;33m,\u001b[0m \u001b[0mf\u001b[0m\u001b[1;33m.\u001b[0m\u001b[0mdenom\u001b[0m\u001b[1;33m)\u001b[0m\u001b[1;33m\u001b[0m\u001b[1;33m\u001b[0m\u001b[0m\n\u001b[0;32m    428\u001b[0m             \u001b[1;32melse\u001b[0m\u001b[1;33m:\u001b[0m\u001b[1;33m\u001b[0m\u001b[1;33m\u001b[0m\u001b[0m\n\u001b[1;32m--> 429\u001b[1;33m                 \u001b[1;32mreturn\u001b[0m \u001b[0mf\u001b[0m\u001b[1;33m.\u001b[0m\u001b[0mnew\u001b[0m\u001b[1;33m(\u001b[0m\u001b[0mf\u001b[0m\u001b[1;33m.\u001b[0m\u001b[0mnumer\u001b[0m\u001b[1;33m*\u001b[0m\u001b[0mg\u001b[0m\u001b[1;33m.\u001b[0m\u001b[0mdenom\u001b[0m \u001b[1;33m-\u001b[0m \u001b[0mf\u001b[0m\u001b[1;33m.\u001b[0m\u001b[0mdenom\u001b[0m\u001b[1;33m*\u001b[0m\u001b[0mg\u001b[0m\u001b[1;33m.\u001b[0m\u001b[0mnumer\u001b[0m\u001b[1;33m,\u001b[0m \u001b[0mf\u001b[0m\u001b[1;33m.\u001b[0m\u001b[0mdenom\u001b[0m\u001b[1;33m*\u001b[0m\u001b[0mg\u001b[0m\u001b[1;33m.\u001b[0m\u001b[0mdenom\u001b[0m\u001b[1;33m)\u001b[0m\u001b[1;33m\u001b[0m\u001b[1;33m\u001b[0m\u001b[0m\n\u001b[0m\u001b[0;32m    430\u001b[0m         \u001b[1;32melif\u001b[0m \u001b[0misinstance\u001b[0m\u001b[1;33m(\u001b[0m\u001b[0mg\u001b[0m\u001b[1;33m,\u001b[0m \u001b[0mfield\u001b[0m\u001b[1;33m.\u001b[0m\u001b[0mring\u001b[0m\u001b[1;33m.\u001b[0m\u001b[0mdtype\u001b[0m\u001b[1;33m)\u001b[0m\u001b[1;33m:\u001b[0m\u001b[1;33m\u001b[0m\u001b[1;33m\u001b[0m\u001b[0m\n\u001b[0;32m    431\u001b[0m             \u001b[1;32mreturn\u001b[0m \u001b[0mf\u001b[0m\u001b[1;33m.\u001b[0m\u001b[0mnew\u001b[0m\u001b[1;33m(\u001b[0m\u001b[0mf\u001b[0m\u001b[1;33m.\u001b[0m\u001b[0mnumer\u001b[0m \u001b[1;33m-\u001b[0m \u001b[0mf\u001b[0m\u001b[1;33m.\u001b[0m\u001b[0mdenom\u001b[0m\u001b[1;33m*\u001b[0m\u001b[0mg\u001b[0m\u001b[1;33m,\u001b[0m \u001b[0mf\u001b[0m\u001b[1;33m.\u001b[0m\u001b[0mdenom\u001b[0m\u001b[1;33m)\u001b[0m\u001b[1;33m\u001b[0m\u001b[1;33m\u001b[0m\u001b[0m\n",
      "\u001b[1;32m~\\Anaconda3\\lib\\site-packages\\sympy\\polys\\fields.py\u001b[0m in \u001b[0;36mnew\u001b[1;34m(f, numer, denom)\u001b[0m\n\u001b[0;32m    275\u001b[0m         \u001b[1;32mreturn\u001b[0m \u001b[0mf\u001b[0m\u001b[1;33m.\u001b[0m\u001b[0m__class__\u001b[0m\u001b[1;33m(\u001b[0m\u001b[0mnumer\u001b[0m\u001b[1;33m,\u001b[0m \u001b[0mdenom\u001b[0m\u001b[1;33m)\u001b[0m\u001b[1;33m\u001b[0m\u001b[1;33m\u001b[0m\u001b[0m\n\u001b[0;32m    276\u001b[0m     \u001b[1;32mdef\u001b[0m \u001b[0mnew\u001b[0m\u001b[1;33m(\u001b[0m\u001b[0mf\u001b[0m\u001b[1;33m,\u001b[0m \u001b[0mnumer\u001b[0m\u001b[1;33m,\u001b[0m \u001b[0mdenom\u001b[0m\u001b[1;33m)\u001b[0m\u001b[1;33m:\u001b[0m\u001b[1;33m\u001b[0m\u001b[1;33m\u001b[0m\u001b[0m\n\u001b[1;32m--> 277\u001b[1;33m         \u001b[1;32mreturn\u001b[0m \u001b[0mf\u001b[0m\u001b[1;33m.\u001b[0m\u001b[0mraw_new\u001b[0m\u001b[1;33m(\u001b[0m\u001b[1;33m*\u001b[0m\u001b[0mnumer\u001b[0m\u001b[1;33m.\u001b[0m\u001b[0mcancel\u001b[0m\u001b[1;33m(\u001b[0m\u001b[0mdenom\u001b[0m\u001b[1;33m)\u001b[0m\u001b[1;33m)\u001b[0m\u001b[1;33m\u001b[0m\u001b[1;33m\u001b[0m\u001b[0m\n\u001b[0m\u001b[0;32m    278\u001b[0m \u001b[1;33m\u001b[0m\u001b[0m\n\u001b[0;32m    279\u001b[0m     \u001b[1;32mdef\u001b[0m \u001b[0mto_poly\u001b[0m\u001b[1;33m(\u001b[0m\u001b[0mf\u001b[0m\u001b[1;33m)\u001b[0m\u001b[1;33m:\u001b[0m\u001b[1;33m\u001b[0m\u001b[1;33m\u001b[0m\u001b[0m\n",
      "\u001b[1;32m~\\Anaconda3\\lib\\site-packages\\sympy\\polys\\rings.py\u001b[0m in \u001b[0;36mcancel\u001b[1;34m(self, g)\u001b[0m\n\u001b[0;32m   2218\u001b[0m \u001b[1;33m\u001b[0m\u001b[0m\n\u001b[0;32m   2219\u001b[0m         \u001b[1;32mif\u001b[0m \u001b[1;32mnot\u001b[0m \u001b[1;33m(\u001b[0m\u001b[0mdomain\u001b[0m\u001b[1;33m.\u001b[0m\u001b[0mis_Field\u001b[0m \u001b[1;32mand\u001b[0m \u001b[0mdomain\u001b[0m\u001b[1;33m.\u001b[0m\u001b[0mhas_assoc_Ring\u001b[0m\u001b[1;33m)\u001b[0m\u001b[1;33m:\u001b[0m\u001b[1;33m\u001b[0m\u001b[1;33m\u001b[0m\u001b[0m\n\u001b[1;32m-> 2220\u001b[1;33m             \u001b[0m_\u001b[0m\u001b[1;33m,\u001b[0m \u001b[0mp\u001b[0m\u001b[1;33m,\u001b[0m \u001b[0mq\u001b[0m \u001b[1;33m=\u001b[0m \u001b[0mf\u001b[0m\u001b[1;33m.\u001b[0m\u001b[0mcofactors\u001b[0m\u001b[1;33m(\u001b[0m\u001b[0mg\u001b[0m\u001b[1;33m)\u001b[0m\u001b[1;33m\u001b[0m\u001b[1;33m\u001b[0m\u001b[0m\n\u001b[0m\u001b[0;32m   2221\u001b[0m \u001b[1;33m\u001b[0m\u001b[0m\n\u001b[0;32m   2222\u001b[0m             \u001b[1;32mif\u001b[0m \u001b[0mq\u001b[0m\u001b[1;33m.\u001b[0m\u001b[0mis_negative\u001b[0m\u001b[1;33m:\u001b[0m\u001b[1;33m\u001b[0m\u001b[1;33m\u001b[0m\u001b[0m\n",
      "\u001b[1;32m~\\Anaconda3\\lib\\site-packages\\sympy\\polys\\rings.py\u001b[0m in \u001b[0;36mcofactors\u001b[1;34m(f, g)\u001b[0m\n\u001b[0;32m   2134\u001b[0m \u001b[1;33m\u001b[0m\u001b[0m\n\u001b[0;32m   2135\u001b[0m         \u001b[0mJ\u001b[0m\u001b[1;33m,\u001b[0m \u001b[1;33m(\u001b[0m\u001b[0mf\u001b[0m\u001b[1;33m,\u001b[0m \u001b[0mg\u001b[0m\u001b[1;33m)\u001b[0m \u001b[1;33m=\u001b[0m \u001b[0mf\u001b[0m\u001b[1;33m.\u001b[0m\u001b[0mdeflate\u001b[0m\u001b[1;33m(\u001b[0m\u001b[0mg\u001b[0m\u001b[1;33m)\u001b[0m\u001b[1;33m\u001b[0m\u001b[1;33m\u001b[0m\u001b[0m\n\u001b[1;32m-> 2136\u001b[1;33m         \u001b[0mh\u001b[0m\u001b[1;33m,\u001b[0m \u001b[0mcff\u001b[0m\u001b[1;33m,\u001b[0m \u001b[0mcfg\u001b[0m \u001b[1;33m=\u001b[0m \u001b[0mf\u001b[0m\u001b[1;33m.\u001b[0m\u001b[0m_gcd\u001b[0m\u001b[1;33m(\u001b[0m\u001b[0mg\u001b[0m\u001b[1;33m)\u001b[0m\u001b[1;33m\u001b[0m\u001b[1;33m\u001b[0m\u001b[0m\n\u001b[0m\u001b[0;32m   2137\u001b[0m \u001b[1;33m\u001b[0m\u001b[0m\n\u001b[0;32m   2138\u001b[0m         \u001b[1;32mreturn\u001b[0m \u001b[1;33m(\u001b[0m\u001b[0mh\u001b[0m\u001b[1;33m.\u001b[0m\u001b[0minflate\u001b[0m\u001b[1;33m(\u001b[0m\u001b[0mJ\u001b[0m\u001b[1;33m)\u001b[0m\u001b[1;33m,\u001b[0m \u001b[0mcff\u001b[0m\u001b[1;33m.\u001b[0m\u001b[0minflate\u001b[0m\u001b[1;33m(\u001b[0m\u001b[0mJ\u001b[0m\u001b[1;33m)\u001b[0m\u001b[1;33m,\u001b[0m \u001b[0mcfg\u001b[0m\u001b[1;33m.\u001b[0m\u001b[0minflate\u001b[0m\u001b[1;33m(\u001b[0m\u001b[0mJ\u001b[0m\u001b[1;33m)\u001b[0m\u001b[1;33m)\u001b[0m\u001b[1;33m\u001b[0m\u001b[1;33m\u001b[0m\u001b[0m\n",
      "\u001b[1;32m~\\Anaconda3\\lib\\site-packages\\sympy\\polys\\rings.py\u001b[0m in \u001b[0;36m_gcd\u001b[1;34m(f, g)\u001b[0m\n\u001b[0;32m   2167\u001b[0m             \u001b[1;32mreturn\u001b[0m \u001b[0mf\u001b[0m\u001b[1;33m.\u001b[0m\u001b[0m_gcd_QQ\u001b[0m\u001b[1;33m(\u001b[0m\u001b[0mg\u001b[0m\u001b[1;33m)\u001b[0m\u001b[1;33m\u001b[0m\u001b[1;33m\u001b[0m\u001b[0m\n\u001b[0;32m   2168\u001b[0m         \u001b[1;32melif\u001b[0m \u001b[0mring\u001b[0m\u001b[1;33m.\u001b[0m\u001b[0mdomain\u001b[0m\u001b[1;33m.\u001b[0m\u001b[0mis_ZZ\u001b[0m\u001b[1;33m:\u001b[0m\u001b[1;33m\u001b[0m\u001b[1;33m\u001b[0m\u001b[0m\n\u001b[1;32m-> 2169\u001b[1;33m             \u001b[1;32mreturn\u001b[0m \u001b[0mf\u001b[0m\u001b[1;33m.\u001b[0m\u001b[0m_gcd_ZZ\u001b[0m\u001b[1;33m(\u001b[0m\u001b[0mg\u001b[0m\u001b[1;33m)\u001b[0m\u001b[1;33m\u001b[0m\u001b[1;33m\u001b[0m\u001b[0m\n\u001b[0m\u001b[0;32m   2170\u001b[0m         \u001b[1;32melse\u001b[0m\u001b[1;33m:\u001b[0m \u001b[1;31m# TODO: don't use dense representation (port PRS algorithms)\u001b[0m\u001b[1;33m\u001b[0m\u001b[1;33m\u001b[0m\u001b[0m\n\u001b[0;32m   2171\u001b[0m             \u001b[1;32mreturn\u001b[0m \u001b[0mring\u001b[0m\u001b[1;33m.\u001b[0m\u001b[0mdmp_inner_gcd\u001b[0m\u001b[1;33m(\u001b[0m\u001b[0mf\u001b[0m\u001b[1;33m,\u001b[0m \u001b[0mg\u001b[0m\u001b[1;33m)\u001b[0m\u001b[1;33m\u001b[0m\u001b[1;33m\u001b[0m\u001b[0m\n",
      "\u001b[1;32m~\\Anaconda3\\lib\\site-packages\\sympy\\polys\\rings.py\u001b[0m in \u001b[0;36m_gcd_ZZ\u001b[1;34m(f, g)\u001b[0m\n\u001b[0;32m   2172\u001b[0m \u001b[1;33m\u001b[0m\u001b[0m\n\u001b[0;32m   2173\u001b[0m     \u001b[1;32mdef\u001b[0m \u001b[0m_gcd_ZZ\u001b[0m\u001b[1;33m(\u001b[0m\u001b[0mf\u001b[0m\u001b[1;33m,\u001b[0m \u001b[0mg\u001b[0m\u001b[1;33m)\u001b[0m\u001b[1;33m:\u001b[0m\u001b[1;33m\u001b[0m\u001b[1;33m\u001b[0m\u001b[0m\n\u001b[1;32m-> 2174\u001b[1;33m         \u001b[1;32mreturn\u001b[0m \u001b[0mheugcd\u001b[0m\u001b[1;33m(\u001b[0m\u001b[0mf\u001b[0m\u001b[1;33m,\u001b[0m \u001b[0mg\u001b[0m\u001b[1;33m)\u001b[0m\u001b[1;33m\u001b[0m\u001b[1;33m\u001b[0m\u001b[0m\n\u001b[0m\u001b[0;32m   2175\u001b[0m \u001b[1;33m\u001b[0m\u001b[0m\n\u001b[0;32m   2176\u001b[0m     \u001b[1;32mdef\u001b[0m \u001b[0m_gcd_QQ\u001b[0m\u001b[1;33m(\u001b[0m\u001b[0mself\u001b[0m\u001b[1;33m,\u001b[0m \u001b[0mg\u001b[0m\u001b[1;33m)\u001b[0m\u001b[1;33m:\u001b[0m\u001b[1;33m\u001b[0m\u001b[1;33m\u001b[0m\u001b[0m\n",
      "\u001b[1;32m~\\Anaconda3\\lib\\site-packages\\sympy\\polys\\heuristicgcd.py\u001b[0m in \u001b[0;36mheugcd\u001b[1;34m(f, g)\u001b[0m\n\u001b[0;32m     79\u001b[0m                 \u001b[0mh\u001b[0m\u001b[1;33m,\u001b[0m \u001b[0mcff\u001b[0m\u001b[1;33m,\u001b[0m \u001b[0mcfg\u001b[0m \u001b[1;33m=\u001b[0m \u001b[0mdomain\u001b[0m\u001b[1;33m.\u001b[0m\u001b[0mcofactors\u001b[0m\u001b[1;33m(\u001b[0m\u001b[0mff\u001b[0m\u001b[1;33m,\u001b[0m \u001b[0mgg\u001b[0m\u001b[1;33m)\u001b[0m\u001b[1;33m\u001b[0m\u001b[1;33m\u001b[0m\u001b[0m\n\u001b[0;32m     80\u001b[0m             \u001b[1;32melse\u001b[0m\u001b[1;33m:\u001b[0m\u001b[1;33m\u001b[0m\u001b[1;33m\u001b[0m\u001b[0m\n\u001b[1;32m---> 81\u001b[1;33m                 \u001b[0mh\u001b[0m\u001b[1;33m,\u001b[0m \u001b[0mcff\u001b[0m\u001b[1;33m,\u001b[0m \u001b[0mcfg\u001b[0m \u001b[1;33m=\u001b[0m \u001b[0mheugcd\u001b[0m\u001b[1;33m(\u001b[0m\u001b[0mff\u001b[0m\u001b[1;33m,\u001b[0m \u001b[0mgg\u001b[0m\u001b[1;33m)\u001b[0m\u001b[1;33m\u001b[0m\u001b[1;33m\u001b[0m\u001b[0m\n\u001b[0m\u001b[0;32m     82\u001b[0m \u001b[1;33m\u001b[0m\u001b[0m\n\u001b[0;32m     83\u001b[0m             \u001b[0mh\u001b[0m \u001b[1;33m=\u001b[0m \u001b[0m_gcd_interpolate\u001b[0m\u001b[1;33m(\u001b[0m\u001b[0mh\u001b[0m\u001b[1;33m,\u001b[0m \u001b[0mx\u001b[0m\u001b[1;33m,\u001b[0m \u001b[0mring\u001b[0m\u001b[1;33m)\u001b[0m\u001b[1;33m\u001b[0m\u001b[1;33m\u001b[0m\u001b[0m\n",
      "\u001b[1;32m~\\Anaconda3\\lib\\site-packages\\sympy\\polys\\heuristicgcd.py\u001b[0m in \u001b[0;36mheugcd\u001b[1;34m(f, g)\u001b[0m\n\u001b[0;32m     79\u001b[0m                 \u001b[0mh\u001b[0m\u001b[1;33m,\u001b[0m \u001b[0mcff\u001b[0m\u001b[1;33m,\u001b[0m \u001b[0mcfg\u001b[0m \u001b[1;33m=\u001b[0m \u001b[0mdomain\u001b[0m\u001b[1;33m.\u001b[0m\u001b[0mcofactors\u001b[0m\u001b[1;33m(\u001b[0m\u001b[0mff\u001b[0m\u001b[1;33m,\u001b[0m \u001b[0mgg\u001b[0m\u001b[1;33m)\u001b[0m\u001b[1;33m\u001b[0m\u001b[1;33m\u001b[0m\u001b[0m\n\u001b[0;32m     80\u001b[0m             \u001b[1;32melse\u001b[0m\u001b[1;33m:\u001b[0m\u001b[1;33m\u001b[0m\u001b[1;33m\u001b[0m\u001b[0m\n\u001b[1;32m---> 81\u001b[1;33m                 \u001b[0mh\u001b[0m\u001b[1;33m,\u001b[0m \u001b[0mcff\u001b[0m\u001b[1;33m,\u001b[0m \u001b[0mcfg\u001b[0m \u001b[1;33m=\u001b[0m \u001b[0mheugcd\u001b[0m\u001b[1;33m(\u001b[0m\u001b[0mff\u001b[0m\u001b[1;33m,\u001b[0m \u001b[0mgg\u001b[0m\u001b[1;33m)\u001b[0m\u001b[1;33m\u001b[0m\u001b[1;33m\u001b[0m\u001b[0m\n\u001b[0m\u001b[0;32m     82\u001b[0m \u001b[1;33m\u001b[0m\u001b[0m\n\u001b[0;32m     83\u001b[0m             \u001b[0mh\u001b[0m \u001b[1;33m=\u001b[0m \u001b[0m_gcd_interpolate\u001b[0m\u001b[1;33m(\u001b[0m\u001b[0mh\u001b[0m\u001b[1;33m,\u001b[0m \u001b[0mx\u001b[0m\u001b[1;33m,\u001b[0m \u001b[0mring\u001b[0m\u001b[1;33m)\u001b[0m\u001b[1;33m\u001b[0m\u001b[1;33m\u001b[0m\u001b[0m\n",
      "\u001b[1;32m~\\Anaconda3\\lib\\site-packages\\sympy\\polys\\heuristicgcd.py\u001b[0m in \u001b[0;36mheugcd\u001b[1;34m(f, g)\u001b[0m\n\u001b[0;32m     79\u001b[0m                 \u001b[0mh\u001b[0m\u001b[1;33m,\u001b[0m \u001b[0mcff\u001b[0m\u001b[1;33m,\u001b[0m \u001b[0mcfg\u001b[0m \u001b[1;33m=\u001b[0m \u001b[0mdomain\u001b[0m\u001b[1;33m.\u001b[0m\u001b[0mcofactors\u001b[0m\u001b[1;33m(\u001b[0m\u001b[0mff\u001b[0m\u001b[1;33m,\u001b[0m \u001b[0mgg\u001b[0m\u001b[1;33m)\u001b[0m\u001b[1;33m\u001b[0m\u001b[1;33m\u001b[0m\u001b[0m\n\u001b[0;32m     80\u001b[0m             \u001b[1;32melse\u001b[0m\u001b[1;33m:\u001b[0m\u001b[1;33m\u001b[0m\u001b[1;33m\u001b[0m\u001b[0m\n\u001b[1;32m---> 81\u001b[1;33m                 \u001b[0mh\u001b[0m\u001b[1;33m,\u001b[0m \u001b[0mcff\u001b[0m\u001b[1;33m,\u001b[0m \u001b[0mcfg\u001b[0m \u001b[1;33m=\u001b[0m \u001b[0mheugcd\u001b[0m\u001b[1;33m(\u001b[0m\u001b[0mff\u001b[0m\u001b[1;33m,\u001b[0m \u001b[0mgg\u001b[0m\u001b[1;33m)\u001b[0m\u001b[1;33m\u001b[0m\u001b[1;33m\u001b[0m\u001b[0m\n\u001b[0m\u001b[0;32m     82\u001b[0m \u001b[1;33m\u001b[0m\u001b[0m\n\u001b[0;32m     83\u001b[0m             \u001b[0mh\u001b[0m \u001b[1;33m=\u001b[0m \u001b[0m_gcd_interpolate\u001b[0m\u001b[1;33m(\u001b[0m\u001b[0mh\u001b[0m\u001b[1;33m,\u001b[0m \u001b[0mx\u001b[0m\u001b[1;33m,\u001b[0m \u001b[0mring\u001b[0m\u001b[1;33m)\u001b[0m\u001b[1;33m\u001b[0m\u001b[1;33m\u001b[0m\u001b[0m\n",
      "\u001b[1;32m~\\Anaconda3\\lib\\site-packages\\sympy\\polys\\heuristicgcd.py\u001b[0m in \u001b[0;36mheugcd\u001b[1;34m(f, g)\u001b[0m\n\u001b[0;32m     81\u001b[0m                 \u001b[0mh\u001b[0m\u001b[1;33m,\u001b[0m \u001b[0mcff\u001b[0m\u001b[1;33m,\u001b[0m \u001b[0mcfg\u001b[0m \u001b[1;33m=\u001b[0m \u001b[0mheugcd\u001b[0m\u001b[1;33m(\u001b[0m\u001b[0mff\u001b[0m\u001b[1;33m,\u001b[0m \u001b[0mgg\u001b[0m\u001b[1;33m)\u001b[0m\u001b[1;33m\u001b[0m\u001b[1;33m\u001b[0m\u001b[0m\n\u001b[0;32m     82\u001b[0m \u001b[1;33m\u001b[0m\u001b[0m\n\u001b[1;32m---> 83\u001b[1;33m             \u001b[0mh\u001b[0m \u001b[1;33m=\u001b[0m \u001b[0m_gcd_interpolate\u001b[0m\u001b[1;33m(\u001b[0m\u001b[0mh\u001b[0m\u001b[1;33m,\u001b[0m \u001b[0mx\u001b[0m\u001b[1;33m,\u001b[0m \u001b[0mring\u001b[0m\u001b[1;33m)\u001b[0m\u001b[1;33m\u001b[0m\u001b[1;33m\u001b[0m\u001b[0m\n\u001b[0m\u001b[0;32m     84\u001b[0m             \u001b[0mh\u001b[0m \u001b[1;33m=\u001b[0m \u001b[0mh\u001b[0m\u001b[1;33m.\u001b[0m\u001b[0mprimitive\u001b[0m\u001b[1;33m(\u001b[0m\u001b[1;33m)\u001b[0m\u001b[1;33m[\u001b[0m\u001b[1;36m1\u001b[0m\u001b[1;33m]\u001b[0m\u001b[1;33m\u001b[0m\u001b[1;33m\u001b[0m\u001b[0m\n\u001b[0;32m     85\u001b[0m \u001b[1;33m\u001b[0m\u001b[0m\n",
      "\u001b[1;32m~\\Anaconda3\\lib\\site-packages\\sympy\\polys\\heuristicgcd.py\u001b[0m in \u001b[0;36m_gcd_interpolate\u001b[1;34m(h, x, ring)\u001b[0m\n\u001b[0;32m    137\u001b[0m         \u001b[1;32mwhile\u001b[0m \u001b[0mh\u001b[0m\u001b[1;33m:\u001b[0m\u001b[1;33m\u001b[0m\u001b[1;33m\u001b[0m\u001b[0m\n\u001b[0;32m    138\u001b[0m             \u001b[0mg\u001b[0m \u001b[1;33m=\u001b[0m \u001b[0mh\u001b[0m\u001b[1;33m.\u001b[0m\u001b[0mtrunc_ground\u001b[0m\u001b[1;33m(\u001b[0m\u001b[0mx\u001b[0m\u001b[1;33m)\u001b[0m\u001b[1;33m\u001b[0m\u001b[1;33m\u001b[0m\u001b[0m\n\u001b[1;32m--> 139\u001b[1;33m             \u001b[0mh\u001b[0m \u001b[1;33m=\u001b[0m \u001b[1;33m(\u001b[0m\u001b[0mh\u001b[0m \u001b[1;33m-\u001b[0m \u001b[0mg\u001b[0m\u001b[1;33m)\u001b[0m\u001b[1;33m.\u001b[0m\u001b[0mquo_ground\u001b[0m\u001b[1;33m(\u001b[0m\u001b[0mx\u001b[0m\u001b[1;33m)\u001b[0m\u001b[1;33m\u001b[0m\u001b[1;33m\u001b[0m\u001b[0m\n\u001b[0m\u001b[0;32m    140\u001b[0m \u001b[1;33m\u001b[0m\u001b[0m\n\u001b[0;32m    141\u001b[0m             \u001b[1;31m# f += X**i*g\u001b[0m\u001b[1;33m\u001b[0m\u001b[1;33m\u001b[0m\u001b[1;33m\u001b[0m\u001b[0m\n",
      "\u001b[1;32m~\\Anaconda3\\lib\\site-packages\\sympy\\polys\\rings.py\u001b[0m in \u001b[0;36mquo_ground\u001b[1;34m(f, x)\u001b[0m\n\u001b[0;32m   1991\u001b[0m             \u001b[0mterms\u001b[0m \u001b[1;33m=\u001b[0m \u001b[1;33m[\u001b[0m \u001b[1;33m(\u001b[0m\u001b[0mmonom\u001b[0m\u001b[1;33m,\u001b[0m \u001b[0mquo\u001b[0m\u001b[1;33m(\u001b[0m\u001b[0mcoeff\u001b[0m\u001b[1;33m,\u001b[0m \u001b[0mx\u001b[0m\u001b[1;33m)\u001b[0m\u001b[1;33m)\u001b[0m \u001b[1;32mfor\u001b[0m \u001b[0mmonom\u001b[0m\u001b[1;33m,\u001b[0m \u001b[0mcoeff\u001b[0m \u001b[1;32min\u001b[0m \u001b[0mf\u001b[0m\u001b[1;33m.\u001b[0m\u001b[0miterterms\u001b[0m\u001b[1;33m(\u001b[0m\u001b[1;33m)\u001b[0m \u001b[1;33m]\u001b[0m\u001b[1;33m\u001b[0m\u001b[1;33m\u001b[0m\u001b[0m\n\u001b[0;32m   1992\u001b[0m         \u001b[1;32melse\u001b[0m\u001b[1;33m:\u001b[0m\u001b[1;33m\u001b[0m\u001b[1;33m\u001b[0m\u001b[0m\n\u001b[1;32m-> 1993\u001b[1;33m             \u001b[0mterms\u001b[0m \u001b[1;33m=\u001b[0m \u001b[1;33m[\u001b[0m \u001b[1;33m(\u001b[0m\u001b[0mmonom\u001b[0m\u001b[1;33m,\u001b[0m \u001b[0mcoeff\u001b[0m \u001b[1;33m//\u001b[0m \u001b[0mx\u001b[0m\u001b[1;33m)\u001b[0m \u001b[1;32mfor\u001b[0m \u001b[0mmonom\u001b[0m\u001b[1;33m,\u001b[0m \u001b[0mcoeff\u001b[0m \u001b[1;32min\u001b[0m \u001b[0mf\u001b[0m\u001b[1;33m.\u001b[0m\u001b[0miterterms\u001b[0m\u001b[1;33m(\u001b[0m\u001b[1;33m)\u001b[0m \u001b[1;32mif\u001b[0m \u001b[1;32mnot\u001b[0m \u001b[1;33m(\u001b[0m\u001b[0mcoeff\u001b[0m \u001b[1;33m%\u001b[0m \u001b[0mx\u001b[0m\u001b[1;33m)\u001b[0m \u001b[1;33m]\u001b[0m\u001b[1;33m\u001b[0m\u001b[1;33m\u001b[0m\u001b[0m\n\u001b[0m\u001b[0;32m   1994\u001b[0m \u001b[1;33m\u001b[0m\u001b[0m\n\u001b[0;32m   1995\u001b[0m         \u001b[1;32mreturn\u001b[0m \u001b[0mf\u001b[0m\u001b[1;33m.\u001b[0m\u001b[0mnew\u001b[0m\u001b[1;33m(\u001b[0m\u001b[0mterms\u001b[0m\u001b[1;33m)\u001b[0m\u001b[1;33m\u001b[0m\u001b[1;33m\u001b[0m\u001b[0m\n",
      "\u001b[1;32m~\\Anaconda3\\lib\\site-packages\\sympy\\polys\\rings.py\u001b[0m in \u001b[0;36m<listcomp>\u001b[1;34m(.0)\u001b[0m\n\u001b[0;32m   1991\u001b[0m             \u001b[0mterms\u001b[0m \u001b[1;33m=\u001b[0m \u001b[1;33m[\u001b[0m \u001b[1;33m(\u001b[0m\u001b[0mmonom\u001b[0m\u001b[1;33m,\u001b[0m \u001b[0mquo\u001b[0m\u001b[1;33m(\u001b[0m\u001b[0mcoeff\u001b[0m\u001b[1;33m,\u001b[0m \u001b[0mx\u001b[0m\u001b[1;33m)\u001b[0m\u001b[1;33m)\u001b[0m \u001b[1;32mfor\u001b[0m \u001b[0mmonom\u001b[0m\u001b[1;33m,\u001b[0m \u001b[0mcoeff\u001b[0m \u001b[1;32min\u001b[0m \u001b[0mf\u001b[0m\u001b[1;33m.\u001b[0m\u001b[0miterterms\u001b[0m\u001b[1;33m(\u001b[0m\u001b[1;33m)\u001b[0m \u001b[1;33m]\u001b[0m\u001b[1;33m\u001b[0m\u001b[1;33m\u001b[0m\u001b[0m\n\u001b[0;32m   1992\u001b[0m         \u001b[1;32melse\u001b[0m\u001b[1;33m:\u001b[0m\u001b[1;33m\u001b[0m\u001b[1;33m\u001b[0m\u001b[0m\n\u001b[1;32m-> 1993\u001b[1;33m             \u001b[0mterms\u001b[0m \u001b[1;33m=\u001b[0m \u001b[1;33m[\u001b[0m \u001b[1;33m(\u001b[0m\u001b[0mmonom\u001b[0m\u001b[1;33m,\u001b[0m \u001b[0mcoeff\u001b[0m \u001b[1;33m//\u001b[0m \u001b[0mx\u001b[0m\u001b[1;33m)\u001b[0m \u001b[1;32mfor\u001b[0m \u001b[0mmonom\u001b[0m\u001b[1;33m,\u001b[0m \u001b[0mcoeff\u001b[0m \u001b[1;32min\u001b[0m \u001b[0mf\u001b[0m\u001b[1;33m.\u001b[0m\u001b[0miterterms\u001b[0m\u001b[1;33m(\u001b[0m\u001b[1;33m)\u001b[0m \u001b[1;32mif\u001b[0m \u001b[1;32mnot\u001b[0m \u001b[1;33m(\u001b[0m\u001b[0mcoeff\u001b[0m \u001b[1;33m%\u001b[0m \u001b[0mx\u001b[0m\u001b[1;33m)\u001b[0m \u001b[1;33m]\u001b[0m\u001b[1;33m\u001b[0m\u001b[1;33m\u001b[0m\u001b[0m\n\u001b[0m\u001b[0;32m   1994\u001b[0m \u001b[1;33m\u001b[0m\u001b[0m\n\u001b[0;32m   1995\u001b[0m         \u001b[1;32mreturn\u001b[0m \u001b[0mf\u001b[0m\u001b[1;33m.\u001b[0m\u001b[0mnew\u001b[0m\u001b[1;33m(\u001b[0m\u001b[0mterms\u001b[0m\u001b[1;33m)\u001b[0m\u001b[1;33m\u001b[0m\u001b[1;33m\u001b[0m\u001b[0m\n",
      "\u001b[1;31mKeyboardInterrupt\u001b[0m: "
     ]
    }
   ],
   "source": [
    "import math\n",
    "R, S, G, a, k, n, r, c, u = symbols('R, S, G, a, k, n, r, c, u', real=True)\n",
    "y = nonlinsolve([(k*a*S*R/((S+G)*(R+n)))-1, (a*R/(R+n))*(((S**2)/G*(S+G))*(1-(k*S/(S+G))) + (G/(S+G))) - u, r*R*(1-(R/c)) - (a*R/(R+n))*(((S**2)/G*(S+G))*(1-(k*S/(S+G))) + (G/(S+G))) - (k*a*S*R/((S+G)*(R+n)))], [S,G,R])\n",
    "print(y)"
   ]
  },
  {
   "cell_type": "code",
   "execution_count": null,
   "metadata": {},
   "outputs": [],
   "source": []
  }
 ],
 "metadata": {
  "celltoolbar": "Edit Metadata",
  "kernelspec": {
   "display_name": "Python 3",
   "language": "python",
   "name": "python3"
  },
  "language_info": {
   "codemirror_mode": {
    "name": "ipython",
    "version": 3
   },
   "file_extension": ".py",
   "mimetype": "text/x-python",
   "name": "python",
   "nbconvert_exporter": "python",
   "pygments_lexer": "ipython3",
   "version": "3.7.3"
  }
 },
 "nbformat": 4,
 "nbformat_minor": 4
}
