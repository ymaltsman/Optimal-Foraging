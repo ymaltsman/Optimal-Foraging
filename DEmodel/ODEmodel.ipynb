{
 "cells": [
  {
   "cell_type": "markdown",
   "metadata": {},
   "source": [
    "Unfortunately Github doesn't render ipywidgets, which allow us to interactively alter the parameters of the model. If you want to mess with the parameters yourself then download this file, and also install and activate ipywidgets, which you can do in the command line interface with the following commands:\n",
    "```\n",
    "pip install ipywidgets\n",
    "jupyter nbextension enable --py widgetsnbextension\n",
    "jupyter labextension install @jupyter-widgets/jupyterlab-manager\n",
    "```"
   ]
  },
  {
   "cell_type": "code",
   "execution_count": 3,
   "metadata": {},
   "outputs": [],
   "source": [
    "#dependencies\n",
    "import numpy as np\n",
    "import operator as op\n",
    "from functools import reduce\n",
    "import ipywidgets as widgets\n",
    "from ipywidgets import interact, interact_manual\n",
    "import matplotlib.pyplot as plt\n",
    "import cmath"
   ]
  },
  {
   "cell_type": "markdown",
   "metadata": {},
   "source": [
    "Parameters:\n",
    "<br>\n",
    "$\\lambda$ = probability of encountering resources <br>\n",
    "$S(t)$ = number of solitary locusts at time t [locusts] <br>\n",
    "$G(t)$ = number of gregarious locusts at time t [locusts] <br>\n",
    "$R(t)$ = number of resources at time t [mass] <br>\n",
    "$R^*$ = Value of resources for which consumption rate saturates [mass] <br>\n",
    "$R_c$ = carrying capacity for resources [mass] <br>\n",
    "$\\alpha$ = percentage of total resources found in a patch, proxy for clumpiness <br>\n",
    "$k$ = proportion of resources reserved for a solitary locust before gregarious locusts arrive <br>\n",
    "$h_0$ = foraging rate [mass/time] <br>\n",
    "$\\mu$ = energy cost [mass/time] <br> \n",
    "$r$ = resource regeneration rate [1/time] <br>\n",
    "$p_s, p_g$ = proportion of solitary, gregarious locusts <br>\n",
    "Note that $G(t)$ and $S(t)$ actually stay the same, but the energy of locusts' changes"
   ]
  },
  {
   "cell_type": "markdown",
   "metadata": {},
   "source": [
    "<h3>The model:</h3><br>\n",
    "<h4>Change in energy for gregarious locusts</h4><br>\n",
    "$$\n",
    "G(t)\\frac{dE_G}{dt} = \\left [\\sum_{i=0}^{S(t)}{S(t) \\choose i}\\lambda_s^i(1-\\lambda_s)^{S(t)-i} i\\right ](1-p_sk) \\alpha p_sh(R) + \\lambda_g \\alpha p_gh(R)G(t) - \\mu_GG(t)\n",
    "$$\n",
    "Where $h(R)=h_0\\frac{R(t)}{(R(t)+R^*)}$ (Instead of $R(t)$ this could be the expected number of resources)\n",
    "<p>Gregarious locusts gain energy both by discovering resources themselves (second term on the right) and by scrounging off of solitary locusts (first term)</p>\n"
   ]
  },
  {
   "cell_type": "markdown",
   "metadata": {},
   "source": [
    "<h4>Change in energy for solitary locusts</h4>\n",
    "<br>\n",
    "$$\n",
    "S(t)\\frac{dE_S}{dt} = \\left [\\sum_{i=0}^{S(t)} {S(t) \\choose i} \\lambda_s^i(1-\\lambda_s)^{S(t)-i}i \\right ]p_sk \\alpha h(R) - \\mu_SS(t)\n",
    "$$"
   ]
  },
  {
   "cell_type": "markdown",
   "metadata": {},
   "source": [
    "<h4>Change in resources</h4>\n",
    "$$\n",
    "\\frac{dR}{dt} = -(S(t)(\\frac{dE_S}{dt}+\\mu_s) + G(t)(\\frac{dE_G}{dt}+\\mu_G))+rR(t)(1-R(t)/R_c)\n",
    "$$"
   ]
  },
  {
   "cell_type": "code",
   "execution_count": 4,
   "metadata": {},
   "outputs": [],
   "source": [
    "#a helper function to compute n choose k\n",
    "def choose(n,r):\n",
    "    r = min(r, n-r)\n",
    "    numer = reduce(op.mul, range(n, n-r, -1), 1)\n",
    "    denom = reduce(op.mul, range(1, r+1), 1)\n",
    "    return numer // denom"
   ]
  },
  {
   "cell_type": "code",
   "execution_count": 5,
   "metadata": {},
   "outputs": [],
   "source": [
    "##implementation of dE_G/dt\n",
    "def DE(S, L, R, alpha, k, G, h, us, ug, r, Rn, Rc):\n",
    "    glamb = G/L\n",
    "    slamb = S/L\n",
    "    ps=S/(S+G)\n",
    "    pg=G/(S+G)\n",
    "    \n",
    "    #dE_G/dt\n",
    "    x=0\n",
    "    for i in range(S):\n",
    "        x += choose(S,i)*(slamb**i)*((1-slamb)**(S-i))*i\n",
    "    h = h*R/(R+Rn)\n",
    "    x=x*h*ps*(1-ps*k)*alpha\n",
    "    x += glamb*G*alpha*pg*h - ug*G\n",
    "    \n",
    "    #dE_S/dt\n",
    "    y = 0\n",
    "    for i in range(S):\n",
    "        y += choose(S,i)*((slamb**i)*((1-slamb)**(S-i))*i)\n",
    "    y = y*ps*k*alpha*h - us*S\n",
    "    \n",
    "    #dR/dt\n",
    "    z = r*R*(1-(R/Rc)) - S*(y+us) - G*(x+ug)\n",
    "    return x, y, z"
   ]
  },
  {
   "cell_type": "code",
   "execution_count": 6,
   "metadata": {
    "scrolled": true
   },
   "outputs": [
    {
     "data": {
      "application/vnd.jupyter.widget-view+json": {
       "model_id": "ba6b9a3678104f54bf20bf1dc0ef81bd",
       "version_major": 2,
       "version_minor": 0
      },
      "text/plain": [
       "interactive(children=(IntSlider(value=30, description='S', max=50, min=10), IntSlider(value=100, description='…"
      ]
     },
     "metadata": {},
     "output_type": "display_data"
    }
   ],
   "source": [
    "@interact(k=(.05,1,.1), h=(.05, .5, .05), alpha=(0,1,.05), us=(.001,.015, .001), ug=(.001,.015, .001))\n",
    "def simulate(S=(10,50), L=100, G=(10,50), Rn=30, alpha=.3, k=.35, h=.05, us=.004, ug=.007, r=.2, Rc=100, tsteps=10000):\n",
    "    dt = .01\n",
    "    x = np.empty([tsteps + 1,3])\n",
    "    x[0] = [0,0,Rn]\n",
    "    for i in range(tsteps):\n",
    "        g_dot, s_dot, R_dot = DE(S, L, x[i][2], alpha, k, G, h, us, ug, r, Rn, Rc)\n",
    "        x[i+1][0] = x[i][0]+G*g_dot*dt\n",
    "        x[i+1][1] = x[i][1]+S*s_dot*dt\n",
    "        x[i+1][2] = x[i][2]+R_dot*dt\n",
    "    g = [y[0] for y in x]\n",
    "    s = [y[1] for y in x]\n",
    "    r = [y[2] for y in x]\n",
    "    plt.plot(range(tsteps+1), g, c='b', label='gregarizing locusts\\' energy')\n",
    "    plt.plot(range(tsteps+1), s, c='r', label='solitary locusts\\' energy')\n",
    "    plt.plot(range(tsteps+1), r, c='g', label='resources')\n",
    "    legend=plt.legend()\n",
    "    plt.xlabel('time')\n",
    "    plt.show()"
   ]
  },
  {
   "cell_type": "markdown",
   "metadata": {},
   "source": [
    "<h3> Non Dimensionalization </h3>\n",
    "<br>\n",
    "We would like to make the system of equations dimensionless so that we can deal with fewer parameters <br>\n",
    "First note that the sums in the first two DEs evaluate to the expected value of a binomial distribution, which in this case would be $S(t) \\lambda_s$ \n",
    "<br>\n",
    "We set up a time scale $\\tau = t/T$ for $T=1/\\mu_s$. Thus $\\frac{dE_S}{dt}=\\frac{dE_S}{d\\tau}\\frac{d\\tau}{dt}=\\mu_s\\frac{dE_S}{d\\tau}$\n",
    "<br>\n",
    "Thus our DE for solitary locusts' energy becomes:\n",
    "$$\n",
    "\\mu_s S(t) \\frac{dE_S}{d\\tau} = S(t)\\lambda_s p_sk \\alpha h(R) - \\mu_sS(t) = S(t)\\lambda_s k \\alpha h_0 p_s \\frac{R(t)}{R(t)+R^*} - \\mu_sS(t) \n",
    "$$\n",
    "<br>\n",
    "Dividing through by $\\mu_s S(t)$ yields\n",
    "$$\n",
    "\\frac{dE_S}{d\\tau} = S(t) k \\gamma p_s \\frac{R(t)}{R(t)+R^*} - 1 \n",
    "$$\n",
    "\n",
    "where $\\gamma = \\frac{\\alpha h_0}{\\mu_s L}$\n",
    "<br>\n",
    "<br>\n",
    "We also apply this non dimensionalization to gregarious locusts' energy\n",
    "$$\n",
    "\\mu_sG(t)\\frac{dE_G}{d\\tau} = S(t)\\lambda_s\\alpha p_s h(R) - S(t)\\lambda_s\\alpha kp_s^2h(R) + \\lambda_g \\alpha p_gh(R)G(t) - \\mu_GG(t)\n",
    "$$\n",
    "Dividing through yields:\n",
    "$$\n",
    "\\frac{dE_G}{d\\tau} = S(t)q(1-kp_s)\\gamma p_s\\frac{R(t)}{R(t)+R^*} + G(t)\\gamma p_g \\frac{R(t)}{R(t)+R^*} - \\mu_l\n",
    "$$\n",
    "where $\\mu_l = \\mu_g/\\mu_s$ and $q=S(t)/G(t)$\n",
    "<br>\n",
    "<br>\n",
    "Finally, non dimensionalizing the resource DE yields:\n",
    "$$\n",
    "\\frac{dR}{d\\tau} = r^*R(t)(1-R(t)/R_c) - S(t)(\\frac{dE_s}{d\\tau}+1) - G(t)(\\frac{dE_g}{d\\tau}+\\mu_l)\n",
    "$$\n",
    "where $r^*=r/\\mu_s$"
   ]
  },
  {
   "cell_type": "code",
   "execution_count": 7,
   "metadata": {},
   "outputs": [],
   "source": [
    "def altDE(S, R, k, G, ul, r, Rn, gamma, Rc):\n",
    "    q = S/G\n",
    "    ps = S/(S+G)\n",
    "    pg = G/(S+G)\n",
    "    h = R/(R+Rn)\n",
    "    \n",
    "    \n",
    "    #dE_G/dtau\n",
    "    x = S*q*(1-k*ps)*gamma*ps*h + G*gamma*pg*h - ul\n",
    "    \n",
    "    #dE_S/dt\n",
    "    y = S*k*gamma*ps*h - 1\n",
    "    \n",
    "    #dR/dt\n",
    "    z = r*R*(1-(R/Rc)) - S*(y+1) - G*(x+ul)\n",
    "    return x, y, z\n"
   ]
  },
  {
   "cell_type": "code",
   "execution_count": 8,
   "metadata": {
    "scrolled": false
   },
   "outputs": [
    {
     "data": {
      "application/vnd.jupyter.widget-view+json": {
       "model_id": "1251e0b07b554d57a7579b893237f9d0",
       "version_major": 2,
       "version_minor": 0
      },
      "text/plain": [
       "interactive(children=(IntSlider(value=15, description='S', max=50), IntSlider(value=15, description='G', max=5…"
      ]
     },
     "metadata": {},
     "output_type": "display_data"
    }
   ],
   "source": [
    "@interact(k=(.05,1.5,.05), S=(0,50,1), G=(0,50,1), ul=(1,3,.1), gamma=(.01,5,.01), Rn=(0,2000,10), Rc=(0,2000), tsteps=(0,10000,100))\n",
    "def simulate(S=15, G=15, Rn=30, k=.35, ul=1.5, r=.2, gamma=.9, Rc=100, R0=40, tsteps=1000):\n",
    "    q = S/G\n",
    "    ps = S/(S+G)\n",
    "    pg = G/(S+G)\n",
    "    \n",
    "    beta = (q**2)*(1-k*ps)*ps + pg\n",
    "    kappa = (S**2)*k*ps + (G**2)*beta\n",
    "    coeff = [-r/Rc, r*(1-Rn/Rc), r*Rn-gamma*kappa]\n",
    "    print(np.roots(coeff))\n",
    "    gcrit = (1/kappa)*(r*Rn+(Rc*r/4)*(1-Rn/Rc)**2)\n",
    "    print(gcrit)\n",
    "    \n",
    "    dtau = .01\n",
    "    x = np.empty([tsteps + 1,3])\n",
    "    x[0] = [0,0,R0]\n",
    "    for i in range(tsteps):\n",
    "        g_dot, s_dot, R_dot = altDE(S, x[i][2], k, G, ul, r, Rn, gamma, Rc)\n",
    "        x[i+1][0] = x[i][0]+G*g_dot*dtau\n",
    "        x[i+1][1] = x[i][1]+S*s_dot*dtau\n",
    "        x[i+1][2] = x[i][2]+R_dot*dtau\n",
    "    g = [y[0] for y in x]\n",
    "    s = [y[1] for y in x]\n",
    "    r = [y[2] for y in x]\n",
    "    plt.plot(range(tsteps+1), g, c='b', label='gregarizing locusts\\' energy')\n",
    "    plt.plot(range(tsteps+1), s, c='r', label='solitary locusts\\' energy')\n",
    "    plt.plot(range(tsteps+1), r, c='g', label='resources')\n",
    "    legend=plt.legend()\n",
    "    plt.xlabel('time')\n",
    "    plt.show()"
   ]
  },
  {
   "cell_type": "markdown",
   "metadata": {},
   "source": [
    "If you change k to the critical value and then change gamma such that the nullclines are positive, you should see that the nullclines are pretty close by."
   ]
  },
  {
   "cell_type": "markdown",
   "metadata": {},
   "source": [
    "<h3> Equilibrium for R(t) </h3>\n",
    "We set $dR/d\\tau=0$ to find an equilibrium\n",
    "$$\n",
    "0 = \\frac{dR}{d\\tau} = r^*R(t)(1-R(t)/R_c) - \\frac{R(t)}{R(t)+R^*}(S^2(t)k\\gamma p_s +G^2(t)\\gamma \\beta)\n",
    "$$\n",
    "Rearranging yields:\n",
    "$$\n",
    "r^*(R(t)+R^*)(1-R(t)/R_c)=\\gamma \\kappa\n",
    "$$\n",
    "Where $\\kappa=S^2(t)kp_s + G^2(t)\\beta$ <br>\n",
    "Thus, we get the following solution for $R(t)$ via the quadratic equation:\n",
    "$$\n",
    "R(t) = \\frac{-r^*(1 - \\frac{R^*}{R_c}) \\pm \\sqrt{(r^*(1-\\frac{R^*}{R_c}))^2 + 4(\\frac{r^*}{R_c}(r^*R^*-\\gamma\\kappa))}}{2r^*/R_c}\n",
    "$$\n",
    "This has a real solution when the terms in the square root are positive, which requires\n",
    "$$\n",
    "\\gamma \\leq \\frac{1}{\\kappa}(r^* R^* + \\frac{R_c r^*}{4}(1-\\frac{R^*}{R_c})^2)\n",
    "$$\n",
    "We then conduct a stability analysis of this fixed point by taking the derivate of $dR/d\\tau$ relative to $R$:\n",
    "$$\n",
    "f'(R) = r^* - \\frac{R^*}{(R+R^*)^2}\\kappa \\gamma\n",
    "$$\n"
   ]
  },
  {
   "cell_type": "markdown",
   "metadata": {},
   "source": [
    "<h3>Adding a genetic component</h3> <br>\n",
    "Let's say that the population of locusts increases and decreases relative to the locusts' energy. So for the solitary locusts:\n",
    "$$\n",
    "\\frac{dS}{dt}= E_sgS\n",
    "$$\n",
    "where $\\left[ g \\right]=1/(mass*time)$ and $g << h_0$ (although they don't have the same units), the consumption rate. In Einsteinian fashion, we can equate one locust with a certain amount of energy, such that $S=E_s/C$. Thus we can rearrange the above DE:\n",
    "$$\n",
    "\\frac{dE_s}{dt} = CE_sgS = E_S^2g\n",
    "$$\n",
    "So we can add this component to our original DE for energy:\n",
    "$$\n",
    "S(t)\\frac{dE_S}{dt} = S(t)\\lambda p_sk \\alpha h(R) - \\mu_SS(t) + CE_sgS^2(t)\n",
    "$$\n",
    "Non dimensionalizing yields\n",
    "$$\n",
    "\\frac{dE_S}{d\\tau} = S(t) k \\gamma p_s \\frac{R(t)}{R(t)+R^*} - 1 + \\frac{E_Sg}{\\mu_s}S(t)\n",
    "$$\n",
    "$$\n",
    "= \\gamma \\zeta E_s \\frac{R(t)}{R(t)+R^*} - 1 + \\rho E_S^2\n",
    "$$\n",
    "where $\\rho = g/\\mu_s$ and $\\zeta = kp_s/C$\n",
    "<br>\n",
    "<br>\n",
    "Similarily, for gregarized locusts, adding a genetic component would yield:\n",
    "$$\n",
    "\\frac{dE_G}{d\\tau} = S(t)q(1-kp_s)\\gamma p_s\\frac{R(t)}{R(t)+R^*} + G(t)\\gamma p_g \\frac{R(t)}{R(t)+R^*} - \\mu_l + \\rho E_G^2\n",
    "$$\n",
    "Just to clean this up,\n",
    "$$\n",
    "\\frac{dE_G}{d\\tau} = \\gamma \\omega E_G \\frac{R(t)}{R(t)+R^*} - \\mu_l + \\rho E_G^2\n",
    "$$\n",
    "where $\\omega = (q^2(1-kp_s)p_s+p_g)/C$\n",
    "<br>\n",
    "The change in resources would still only take into account consumption of gregarious and solitary locusts\n",
    "$$\n",
    "\\frac{dR}{d\\tau} = r^*R(t)(1-\\frac{R(t)}{R_c}) - \\gamma E_G(q\\zeta+\\omega)\\frac{R(t)}{R(t)+R^*}\n",
    "$$"
   ]
  },
  {
   "cell_type": "code",
   "execution_count": 9,
   "metadata": {},
   "outputs": [],
   "source": [
    "## python implementation\n",
    "def genalgDE(Es, Eg, R, Rn, gamma, k, C, rho, ul, r, Rc):\n",
    "    q = Es/Eg\n",
    "    ps = Es/(Es+Eg)\n",
    "    pg = Eg/(Es+Eg)\n",
    "    zeta = ps*k/C\n",
    "    beta = (q**2)*(1-k*ps)*ps + pg\n",
    "    omega = beta/C\n",
    "    h = R/(R+Rn)\n",
    "    \n",
    "    x = gamma*zeta*Es*h - 1 + rho*(Es**2)\n",
    "    \n",
    "    y = gamma*omega*Eg*h - ul + rho*(Eg**2)\n",
    "    \n",
    "    z = r*R*(1-R/Rc) - gamma*Eg*(q*zeta + omega)*h\n",
    "    \n",
    "    return x, y, z"
   ]
  },
  {
   "cell_type": "code",
   "execution_count": 10,
   "metadata": {},
   "outputs": [
    {
     "data": {
      "application/vnd.jupyter.widget-view+json": {
       "model_id": "fbb0941c83f540d298f3f92ef04a9819",
       "version_major": 2,
       "version_minor": 0
      },
      "text/plain": [
       "interactive(children=(IntSlider(value=15, description='S0', max=50), IntSlider(value=15, description='G0', max…"
      ]
     },
     "metadata": {},
     "output_type": "display_data"
    }
   ],
   "source": [
    "@interact(k=(.05,1.5,.05), S0=(0,50,1), G0=(0,50,1), R0=(0,300,10), ul=(1,3,.1), gamma=(.01,5,.01), Rn=(0,2000,10), Rc=(0,2000), tsteps=(0,10000,100))\n",
    "def genalgsim(S0=15, G0=15, R0=50, Rn=100, gamma=1.5, k=.35, C=100, rho=.001, ul=1.5, r=.2, Rc=200, tsteps=10000):\n",
    "    \n",
    "    dtau = .01\n",
    "    x = np.empty([tsteps + 1,3])\n",
    "    x[0] = [S0/C,G0/C,R0]\n",
    "    for i in range(tsteps):\n",
    "        s_dot, g_dot, R_dot = genalgDE(x[i][0], x[i][1], x[i][2], Rn, gamma, k, C, rho, ul, r, Rc)\n",
    "        x[i+1][0] = x[i][0]+s_dot*dtau\n",
    "        x[i+1][1] = x[i][1]+g_dot*dtau\n",
    "        x[i+1][2] = x[i][2]+R_dot*dtau\n",
    "    \n",
    "    g = [y[1] for y in x]\n",
    "    s = [y[0] for y in x]\n",
    "    r = [y[2] for y in x]\n",
    "    plt.plot(range(tsteps+1), g, c='b', label='gregarizing locusts\\' energy')\n",
    "    plt.plot(range(tsteps+1), s, c='r', label='solitary locusts\\' energy')\n",
    "    plt.plot(range(tsteps+1), r, c='g', label='resources')\n",
    "    legend=plt.legend()\n",
    "    plt.xlabel('time')\n",
    "    plt.show()"
   ]
  },
  {
   "cell_type": "code",
   "execution_count": null,
   "metadata": {},
   "outputs": [],
   "source": []
  }
 ],
 "metadata": {
  "celltoolbar": "Edit Metadata",
  "kernelspec": {
   "display_name": "Python 3",
   "language": "python",
   "name": "python3"
  },
  "language_info": {
   "codemirror_mode": {
    "name": "ipython",
    "version": 3
   },
   "file_extension": ".py",
   "mimetype": "text/x-python",
   "name": "python",
   "nbconvert_exporter": "python",
   "pygments_lexer": "ipython3",
   "version": "3.7.3"
  }
 },
 "nbformat": 4,
 "nbformat_minor": 4
}
