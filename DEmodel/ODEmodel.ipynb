{
 "cells": [
  {
   "cell_type": "markdown",
   "metadata": {},
   "source": [
    "Unfortunately Github doesn't render ipywidgets, which allow us to interactively alter the parameters of the model. If you want to mess with the parameters yourself then download this file, and also install and activate ipywidgets, which you can do in the command line interface with the following commands:\n",
    "```\n",
    "pip install ipywidgets\n",
    "jupyter nbextension enable --py widgetsnbextension\n",
    "jupyter labextension install @jupyter-widgets/jupyterlab-manager\n",
    "```"
   ]
  },
  {
   "cell_type": "code",
   "execution_count": 1,
   "metadata": {},
   "outputs": [],
   "source": [
    "#dependencies\n",
    "import numpy as np\n",
    "import operator as op\n",
    "from functools import reduce\n",
    "import ipywidgets as widgets\n",
    "from ipywidgets import interact, interact_manual\n",
    "import matplotlib.pyplot as plt"
   ]
  },
  {
   "cell_type": "markdown",
   "metadata": {},
   "source": [
    "Parameters:\n",
    "<br>\n",
    "$\\lambda$ = probability of encountering resources <br>\n",
    "$S(t)$ = number of solitary locusts at time t <br>\n",
    "$G(t)$ = number of gregarious locusts at time t <br>\n",
    "$R(t)$ = number of resources at time t <br>\n",
    "$\\alpha$ = percentage of total resources found in a patch, proxy for clumpiness <br>\n",
    "$k$ = number of resources reserved for a solitary locust before  <br>\n",
    "$h$ = foraging rate <br>\n",
    "$E$ = energy cost for gregarious locusts <br> \n",
    "$r$ = resource regeneration rate <br>\n",
    "Note that $G(t)$ and $S(t)$ actually stay the same, but the energy of locusts' changes"
   ]
  },
  {
   "cell_type": "markdown",
   "metadata": {},
   "source": [
    "<h3>The model:</h3><br>\n",
    "<h4>Change in energy for gregarious locusts</h4><br>\n",
    "$$\n",
    "\\frac{dE_G}{dt} = (\\sum_{i=0}^{S(t)}{S(t) \\choose i}\\lambda^i(1-\\lambda)^{S(t)-i}((1-k)\\alpha R(t)i))(\\frac{S(t)}{S(t)+G(t)})hG(t) + \\lambda G(t)(\\alpha R(t))(\\frac{G(t)}{G(t)+S(t)}) - E\n",
    "$$\n",
    "<p>Gregarious locusts gain energy both by discovering resources themselves (second term on the right) and by scrounging off of solitary locusts (first term)</p>\n"
   ]
  },
  {
   "cell_type": "markdown",
   "metadata": {},
   "source": [
    "<h4>Change in energy for solitary locusts</h4>\n",
    "<br>\n",
    "$$\n",
    "\\frac{dE_S}{dt} = (\\sum_{i=0}^{S(t)} {S(t) \\choose i} \\lambda^i(1-\\lambda)^{S(t)-i}k \\alpha R(t)i)hS(t)\n",
    "$$"
   ]
  },
  {
   "cell_type": "markdown",
   "metadata": {},
   "source": [
    "<h4>Change in resources</h4>\n",
    "$$\n",
    "\\frac{dR}{dt} = -(\\frac{dE_S}{dt}+\\frac{dE_G}{dt})+r\n",
    "$$"
   ]
  },
  {
   "cell_type": "code",
   "execution_count": 2,
   "metadata": {},
   "outputs": [
    {
     "name": "stdout",
     "output_type": "stream",
     "text": [
      "15\n"
     ]
    }
   ],
   "source": [
    "#a helper function to compute n choose k\n",
    "def choose(n,r):\n",
    "    r = min(r, n-r)\n",
    "    numer = reduce(op.mul, range(n, n-r, -1), 1)\n",
    "    denom = reduce(op.mul, range(1, r+1), 1)\n",
    "    return numer // denom\n",
    "print(choose(6,2))"
   ]
  },
  {
   "cell_type": "code",
   "execution_count": 3,
   "metadata": {},
   "outputs": [],
   "source": [
    "##implementation of dE_G/dt\n",
    "def g_dot(S, lamb, R, alpha, k, G, h, E):\n",
    "    x=0\n",
    "    for i in range(S):\n",
    "        x += choose(S,i)*(lamb**i)*(1-lamb)**(S-i)*((1-k)*alpha*R*i)\n",
    "    x=x*(S/(S+G))*h*G\n",
    "    x += lamb*G*alpha*R*((G/(S+G)))*h*G - E\n",
    "    return x"
   ]
  },
  {
   "cell_type": "code",
   "execution_count": 4,
   "metadata": {},
   "outputs": [],
   "source": [
    "#implementation of dE_S/dt\n",
    "def s_dot(S, lamb, R, alpha, k, h):\n",
    "    y = 0\n",
    "    for i in range(S):\n",
    "        y += choose(S,i)*((lamb**i)*((1-lamb)**(S-i))*k*alpha*R*i)\n",
    "    y = y*h*S\n",
    "    return y"
   ]
  },
  {
   "cell_type": "code",
   "execution_count": 5,
   "metadata": {},
   "outputs": [],
   "source": [
    "#implementation of dR/dt\n",
    "def R_dot(x, y, r):\n",
    "    z = -1*(x+y) + r\n",
    "    return z"
   ]
  },
  {
   "cell_type": "code",
   "execution_count": 11,
   "metadata": {},
   "outputs": [
    {
     "data": {
      "application/vnd.jupyter.widget-view+json": {
       "model_id": "60d39f2c50d6450ab3bac7b5780d7181",
       "version_major": 2,
       "version_minor": 0
      },
      "text/plain": [
       "interactive(children=(IntSlider(value=30, description='S', max=50, min=10), IntSlider(value=30, description='G…"
      ]
     },
     "metadata": {},
     "output_type": "display_data"
    }
   ],
   "source": [
    "@interact\n",
    "def simulate(S=(10,50), G=(10,50), lamb=.1, R=30, alpha=.3, k=(.05,1), h=.01, E=.01, r=.2, tsteps=10000):\n",
    "    dt = .01\n",
    "    x = np.empty([tsteps + 1,3])\n",
    "    x[0] = [0,0,R]\n",
    "    for i in range(tsteps):\n",
    "        g = g_dot(S, lamb, x[i][2], alpha, k, G, h, E)\n",
    "        s = s_dot(S, lamb, x[i][2], alpha, k, h)\n",
    "        R = R_dot(g, s, r)\n",
    "        x[i+1][0] = x[i][0]+g*dt\n",
    "        x[i+1][1] = x[i][1]+s*dt\n",
    "        x[i+1][2] = x[i][2]+R*dt\n",
    "    g = [y[0] for y in x]\n",
    "    s = [y[1] for y in x]\n",
    "    r = [y[2] for y in x]\n",
    "    plt.plot(range(tsteps+1), g, c='b', label='gregarizing locusts\\' energy')\n",
    "    plt.plot(range(tsteps+1), s, c='r', label='solitary locusts\\' energy')\n",
    "    plt.plot(range(tsteps+1), r, c='g', label='resources')\n",
    "    legend=plt.legend()\n",
    "    plt.xlabel('time')\n",
    "    plt.show()"
   ]
  },
  {
   "cell_type": "markdown",
   "metadata": {},
   "source": [
    "Resources are green, energy of solitary locusts is red, and energy of gregarious locusts is blue"
   ]
  }
 ],
 "metadata": {
  "kernelspec": {
   "display_name": "Python 3",
   "language": "python",
   "name": "python3"
  },
  "language_info": {
   "codemirror_mode": {
    "name": "ipython",
    "version": 3
   },
   "file_extension": ".py",
   "mimetype": "text/x-python",
   "name": "python",
   "nbconvert_exporter": "python",
   "pygments_lexer": "ipython3",
   "version": "3.7.3"
  }
 },
 "nbformat": 4,
 "nbformat_minor": 4
}
