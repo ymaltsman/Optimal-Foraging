{
 "cells": [
  {
   "cell_type": "markdown",
   "metadata": {},
   "source": [
    "Unfortunately Github doesn't render ipywidgets, which allow us to interactively alter the parameters of the model. If you want to mess with the parameters yourself then download this file, and also install and activate ipywidgets, which you can do in the command line interface with the following commands:\n",
    "```\n",
    "pip install ipywidgets\n",
    "jupyter nbextension enable --py widgetsnbextension\n",
    "jupyter labextension install @jupyter-widgets/jupyterlab-manager\n",
    "```"
   ]
  },
  {
   "cell_type": "code",
   "execution_count": 1,
   "metadata": {},
   "outputs": [],
   "source": [
    "#dependencies\n",
    "import numpy as np\n",
    "import operator as op\n",
    "from functools import reduce\n",
    "import ipywidgets as widgets\n",
    "from ipywidgets import interact, interact_manual\n",
    "import matplotlib.pyplot as plt\n",
    "import cmath\n",
    "from sympy import *"
   ]
  },
  {
   "cell_type": "markdown",
   "metadata": {},
   "source": [
    "Parameters:\n",
    "<br>\n",
    "$\\lambda$ = probability of encountering resources <br>\n",
    "$S(t)$ = number of solitary locusts at time t [locusts] <br>\n",
    "$G(t)$ = number of gregarious locusts at time t [locusts] <br>\n",
    "$R(t)$ = number of resources at time t [mass] <br>\n",
    "$R^*$ = Value of resources for which consumption rate saturates [mass] <br>\n",
    "$R_c$ = carrying capacity for resources [mass] <br>\n",
    "$\\alpha$ = percentage of total resources found in a patch, proxy for clumpiness <br>\n",
    "$k$ = proportion of resources reserved for a solitary locust before gregarious locusts arrive <br>\n",
    "$h_0$ = foraging rate [mass/time] <br>\n",
    "$\\mu$ = energy cost [mass/time] <br> \n",
    "$r$ = resource regeneration rate [1/time] <br>\n",
    "$p_s, p_g$ = proportion of solitary, gregarious locusts <br>\n",
    "Note that $G(t)$ and $S(t)$ actually stay the same, but the energy of locusts' changes"
   ]
  },
  {
   "cell_type": "markdown",
   "metadata": {},
   "source": [
    "<h3>The model:</h3><br>\n",
    "<h4>Change in energy for gregarious locusts</h4><br>\n",
    "$$\n",
    "G(t)\\frac{dE_G}{dt} = \\left [\\sum_{i=0}^{S(t)}{S(t) \\choose i}\\lambda^i(1-\\lambda)^{S(t)-i} i\\right ](1-p_sk) \\alpha p_sh(R) + G(t)\\lambda \\alpha p_gh(R) - \\mu_GG(t)\n",
    "$$\n",
    "Where $h(R)=h_0\\frac{R(t)}{(R(t)+R^*)}$ (Instead of $R(t)$ this could be the expected number of resources)\n",
    "<p>Gregarious locusts gain energy both by discovering resources themselves (second term on the right) and by scrounging off of solitary locusts (first term)</p>\n"
   ]
  },
  {
   "cell_type": "markdown",
   "metadata": {},
   "source": [
    "<h4>Change in energy for solitary locusts</h4>\n",
    "<br>\n",
    "$$\n",
    "S(t)\\frac{dE_S}{dt} = \\left [\\sum_{i=0}^{S(t)} {S(t) \\choose i} \\lambda^i(1-\\lambda)^{S(t)-i}i \\right ]p_sk \\alpha h(R) - \\mu_SS(t)\n",
    "$$"
   ]
  },
  {
   "cell_type": "markdown",
   "metadata": {},
   "source": [
    "<h4>Change in resources</h4>\n",
    "$$\n",
    "\\frac{dR}{dt} = -(S(t)(\\frac{dE_S}{dt}+\\mu_s) + G(t)(\\frac{dE_G}{dt}+\\mu_G))+rR(t)(1-R(t)/R_c)\n",
    "$$"
   ]
  },
  {
   "cell_type": "code",
   "execution_count": 3,
   "metadata": {},
   "outputs": [],
   "source": [
    "##implementation of dimensionalized system - need to update this \n",
    "def DE(S, L, R, alpha, k, G, h, us, ug, r, Rn, Rc):\n",
    "    ps=S/(S+G)\n",
    "    pg=G/(S+G)\n",
    "    h = h*R/(R+Rn)\n",
    "    \n",
    "    #dE_G/dt\n",
    "    x=x*h*ps*(1-ps*k)*alpha\n",
    "    x += glamb*G*alpha*pg*h - ug*G\n",
    "    \n",
    "    #dE_S/dt\n",
    "    y = 0\n",
    "    for i in range(S):\n",
    "        y += choose(S,i)*((slamb**i)*((1-slamb)**(S-i))*i)\n",
    "    y = y*ps*k*alpha*h - us*S\n",
    "    \n",
    "    #dR/dt\n",
    "    z = r*R*(1-(R/Rc)) - S*(y+us) - G*(x+ug)\n",
    "    return x, y, z"
   ]
  },
  {
   "cell_type": "code",
   "execution_count": 4,
   "metadata": {
    "scrolled": false
   },
   "outputs": [
    {
     "data": {
      "application/vnd.jupyter.widget-view+json": {
       "model_id": "a9599620bc464dd8945257877e899c99",
       "version_major": 2,
       "version_minor": 0
      },
      "text/plain": [
       "interactive(children=(IntSlider(value=30, description='S', max=50, min=10), IntSlider(value=100, description='…"
      ]
     },
     "metadata": {},
     "output_type": "display_data"
    }
   ],
   "source": [
    "@interact(k=(.05,1,.1), h=(.05, .5, .05), alpha=(0,1,.05), us=(.001,.015, .001), ug=(.001,.015, .001))\n",
    "def simulate(S=(10,50), L=100, G=(10,50), Rn=30, alpha=.3, k=.35, h=.05, us=.004, ug=.007, r=.2, Rc=100, tsteps=10000):\n",
    "    dt = .01\n",
    "    x = np.empty([tsteps + 1,3])\n",
    "    x[0] = [0,0,Rn]\n",
    "    for i in range(tsteps):\n",
    "        g_dot, s_dot, R_dot = DE(S, L, x[i][2], alpha, k, G, h, us, ug, r, Rn, Rc)\n",
    "        x[i+1][0] = x[i][0]+G*g_dot*dt\n",
    "        x[i+1][1] = x[i][1]+S*s_dot*dt\n",
    "        x[i+1][2] = x[i][2]+R_dot*dt\n",
    "    g = [y[0] for y in x]\n",
    "    s = [y[1] for y in x]\n",
    "    r = [y[2] for y in x]\n",
    "    plt.plot(range(tsteps+1), g, c='b', label='gregarizing locusts\\' energy')\n",
    "    plt.plot(range(tsteps+1), s, c='r', label='solitary locusts\\' energy')\n",
    "    plt.plot(range(tsteps+1), r, c='g', label='resources')\n",
    "    legend=plt.legend()\n",
    "    plt.xlabel('time')\n",
    "    plt.show()"
   ]
  },
  {
   "cell_type": "markdown",
   "metadata": {},
   "source": [
    "<h3> Non Dimensionalization </h3>\n",
    "<br>\n",
    "We would like to make the system of equations dimensionless so that we can deal with fewer parameters <br>\n",
    "First note that the sums in the first two DEs evaluate to the expected value of a binomial distribution, which in this case would be $S(t) \\lambda$ \n",
    "<br>\n",
    "We set up a time scale $\\tau = t/T$ for $T=1/\\mu_s$. Thus $\\frac{dE_S}{dt}=\\frac{dE_S}{d\\tau}\\frac{d\\tau}{dt}=\\mu_s\\frac{dE_S}{d\\tau}$\n",
    "<br>\n",
    "Thus our DE for solitary locusts' energy becomes:\n",
    "$$\n",
    "\\mu_s S(t) \\frac{dE_S}{d\\tau} = S(t)\\lambda p_sk \\alpha h(R) - \\mu_sS(t) = S(t)\\lambda k \\alpha h_0 p_s \\frac{R(t)}{R(t)+R^*} - \\mu_sS(t) \n",
    "$$\n",
    "<br>\n",
    "Dividing through by $\\mu_s S(t)$ yields\n",
    "$$\n",
    "\\frac{dE_S}{d\\tau} = k \\gamma p_s \\frac{R(t)}{R(t)+R^*} - 1 \n",
    "$$\n",
    "\n",
    "where $\\gamma = \\frac{\\alpha h_0 \\lambda}{\\mu_s}$\n",
    "<br>\n",
    "<br>\n",
    "We also apply this non dimensionalization to gregarious locusts' energy\n",
    "$$\n",
    "\\mu_sG(t)\\frac{dE_G}{d\\tau} = S(t)\\lambda\\alpha p_s h(R) - S(t)\\lambda\\alpha kp_s^2h(R) + \\lambda \\alpha p_gh(R)G(t) - \\mu_GG(t)\n",
    "$$\n",
    "Dividing through yields:\n",
    "$$\n",
    "\\frac{dE_G}{d\\tau} = q(1-kp_s)\\gamma p_s\\frac{R(t)}{R(t)+R^*} + \\gamma p_g \\frac{R(t)}{R(t)+R^*} - \\mu_l\n",
    "$$\n",
    "where $\\mu_l = \\mu_g/\\mu_s$ and $q=S(t)/G(t)$\n",
    "<br>\n",
    "<br>\n",
    "Finally, non dimensionalizing the resource DE yields:\n",
    "$$\n",
    "\\frac{dR}{d\\tau} = r^*R(t)(1-R(t)/R_c) - S(t)(\\frac{dE_s}{d\\tau}+1) - G(t)(\\frac{dE_g}{d\\tau}+\\mu_l)\n",
    "$$\n",
    "where $r^*=r/\\mu_s$"
   ]
  },
  {
   "cell_type": "code",
   "execution_count": 36,
   "metadata": {},
   "outputs": [],
   "source": [
    "def altDE(S, R, k, G, ul, r, Rn, gamma, Rc):\n",
    "    q = S/G\n",
    "    ps = S/(S+G)\n",
    "    pg = G/(S+G)\n",
    "    h = R/(R+Rn)\n",
    "    \n",
    "    \n",
    "    #dE_G/dtau\n",
    "    x = q*(1-k*ps)*gamma*ps*h + gamma*pg*h - ul\n",
    "    \n",
    "    #dE_S/dt\n",
    "    y = k*gamma*ps*h - 1\n",
    "    \n",
    "    #dR/dt\n",
    "    z = r*R*(1-(R/Rc)) - S*(y+1) - G*(x+ul)\n",
    "    return x, y, z\n"
   ]
  },
  {
   "cell_type": "code",
   "execution_count": 38,
   "metadata": {
    "scrolled": false
   },
   "outputs": [
    {
     "data": {
      "application/vnd.jupyter.widget-view+json": {
       "model_id": "8a9d0ce6e14042169904ad38042b31a8",
       "version_major": 2,
       "version_minor": 0
      },
      "text/plain": [
       "interactive(children=(IntSlider(value=15, description='S', max=50), IntSlider(value=15, description='G', max=5…"
      ]
     },
     "metadata": {},
     "output_type": "display_data"
    }
   ],
   "source": [
    "@interact(k=(.05,1.5,.05), S=(0,50,1), G=(0,50,1), ul=(1,3,.1), gamma=(.01,5,.01), Rn=(0,2000,10), Rc=(0,2000), tsteps=(0,100000,100))\n",
    "def simulate(S=15, G=15, Rn=30, k=.35, ul=1.5, r=.2, gamma=.9, Rc=100, R0=40, tsteps=1000):\n",
    "    q = S/G\n",
    "    ps = S/(S+G)\n",
    "    pg = G/(S+G)\n",
    "    \n",
    "    beta = (q**2)*(1-k*ps)*ps + pg\n",
    "    kappa = (S**2)*k*ps + (G**2)*beta\n",
    "    coeff = [-r/Rc, r*(1-Rn/Rc), r*Rn-gamma*kappa]\n",
    "    print(np.roots(coeff))\n",
    "    gcrit = (1/kappa)*(r*Rn+(Rc*r/4)*(1-Rn/Rc)**2)\n",
    "    print(gcrit)\n",
    "    \n",
    "    dtau = .01\n",
    "    x = np.empty([tsteps + 1,3])\n",
    "    x[0] = [0,0,R0]\n",
    "    for i in range(tsteps):\n",
    "        g_dot, s_dot, R_dot = altDE(S, x[i][2], k, G, ul, r, Rn, gamma, Rc)\n",
    "        x[i+1][0] = x[i][0]+G*g_dot*dtau\n",
    "        x[i+1][1] = x[i][1]+S*s_dot*dtau\n",
    "        x[i+1][2] = x[i][2]+R_dot*dtau\n",
    "    g = [y[0] for y in x]\n",
    "    s = [y[1] for y in x]\n",
    "    r = [y[2] for y in x]\n",
    "    plt.plot(range(tsteps+1), g, c='b', label='gregarizing locusts\\' energy')\n",
    "    plt.plot(range(tsteps+1), s, c='r', label='solitary locusts\\' energy')\n",
    "    plt.plot(range(tsteps+1), r, c='g', label='resources')\n",
    "    legend=plt.legend()\n",
    "    plt.xlabel('time')\n",
    "    plt.show()"
   ]
  },
  {
   "cell_type": "markdown",
   "metadata": {},
   "source": [
    "If you change k to the critical value and then change gamma such that the nullclines are positive, you should see that the nullclines are pretty close by."
   ]
  },
  {
   "cell_type": "markdown",
   "metadata": {},
   "source": [
    "<h3> Equilibrium for R(t) (Need to Update) </h3>\n",
    "We set $dR/d\\tau=0$ to find an equilibrium\n",
    "$$\n",
    "0 = \\frac{dR}{d\\tau} = r^*R(t)(1-R(t)/R_c) - \\frac{R(t)}{R(t)+R^*}(S^2(t)k\\gamma p_s +G^2(t)\\gamma \\beta)\n",
    "$$\n",
    "Rearranging yields:\n",
    "$$\n",
    "r^*(R(t)+R^*)(1-R(t)/R_c)=\\gamma \\kappa\n",
    "$$\n",
    "Where $\\kappa=S^2(t)kp_s + G^2(t)\\beta$ <br>\n",
    "Thus, we get the following solution for $R(t)$ via the quadratic equation:\n",
    "$$\n",
    "R(t) = \\frac{-r^*(1 - \\frac{R^*}{R_c}) \\pm \\sqrt{(r^*(1-\\frac{R^*}{R_c}))^2 + 4(\\frac{r^*}{R_c}(r^*R^*-\\gamma\\kappa))}}{2r^*/R_c}\n",
    "$$\n",
    "This has a real solution when the terms in the square root are positive, which requires\n",
    "$$\n",
    "\\gamma \\leq \\frac{1}{\\kappa}(r^* R^* + \\frac{R_c r^*}{4}(1-\\frac{R^*}{R_c})^2)\n",
    "$$\n",
    "We then conduct a stability analysis of this fixed point by taking the derivate of $dR/d\\tau$ relative to $R$:\n",
    "$$\n",
    "f'(R) = r^* - \\frac{R^*}{(R+R^*)^2}\\kappa \\gamma\n",
    "$$\n"
   ]
  },
  {
   "cell_type": "markdown",
   "metadata": {},
   "source": [
    "<h3>Adding a genetic component (not being used, see next section)</h3> <br>\n",
    "Let's say that the population of locusts increases and decreases relative to the locusts' energy. So for the solitary locusts:\n",
    "$$\n",
    "\\frac{dS}{dt}= E_sgS\n",
    "$$\n",
    "where $\\left[ g \\right]=1/(mass*time)$ and $g << h_0$ (although they don't have the same units), the consumption rate. In Einsteinian fashion, we can equate one locust with a certain amount of energy, such that $S=E_s/C$. Thus we can rearrange the above DE:\n",
    "$$\n",
    "\\frac{dE_s}{dt} = CE_sgS = E_S^2g\n",
    "$$\n",
    "So we can add this component to our original DE for energy:\n",
    "$$\n",
    "S(t)\\frac{dE_S}{dt} = S(t)\\lambda p_sk \\alpha h(R) - \\mu_SS(t) + CE_sgS^2(t)\n",
    "$$\n",
    "Non dimensionalizing yields\n",
    "$$\n",
    "\\frac{dE_S}{d\\tau} = S(t) k \\gamma p_s \\frac{R(t)}{R(t)+R^*} - 1 + \\frac{E_Sg}{\\mu_s}S(t)\n",
    "$$\n",
    "$$\n",
    "= \\gamma \\zeta E_s \\frac{R(t)}{R(t)+R^*} - 1 + \\rho E_S^2\n",
    "$$\n",
    "where $\\rho = g/\\mu_s$ and $\\zeta = kp_s/C$\n",
    "<br>\n",
    "<br>\n",
    "Similarily, for gregarized locusts, adding a genetic component would yield:\n",
    "$$\n",
    "\\frac{dE_G}{d\\tau} = S(t)q(1-kp_s)\\gamma p_s\\frac{R(t)}{R(t)+R^*} + G(t)\\gamma p_g \\frac{R(t)}{R(t)+R^*} - \\mu_l + \\rho E_G^2\n",
    "$$\n",
    "Just to clean this up,\n",
    "$$\n",
    "\\frac{dE_G}{d\\tau} = \\gamma \\omega E_G \\frac{R(t)}{R(t)+R^*} - \\mu_l + \\rho E_G^2\n",
    "$$\n",
    "where $\\omega = (q^2(1-kp_s)p_s+p_g)/C$\n",
    "<br>\n",
    "The change in resources would still only take into account consumption of gregarious and solitary locusts\n",
    "$$\n",
    "\\frac{dR}{d\\tau} = r^*R(t)(1-\\frac{R(t)}{R_c}) - \\gamma E_G(q\\zeta+\\omega)\\frac{R(t)}{R(t)+R^*}\n",
    "$$"
   ]
  },
  {
   "cell_type": "markdown",
   "metadata": {},
   "source": [
    "<h3>Adding an evolutionary component</h3>\n",
    "The locusts populations grow in proportion to the amount that their energy is greater/less than $\\bar{E}$, the energy required to sustain a locust.\n",
    "$$\n",
    "\\frac{dS}{dt} = \\nu S(t)(\\frac{E_S}{\\bar{E}}-1)\n",
    "$$\n",
    "$$\n",
    "\\frac{dG}{dt} = \\nu G(t)(\\frac{E_G}{\\bar{E}}-1)\n",
    "$$\n",
    "where $\\nu$ is a rate constant.\n",
    "To non-dimensionalize we divide by $\\mu_s$.\n",
    "$$\n",
    "\\frac{dS}{d\\tau} = \\nu_* S(t)(\\frac{E_S}{\\bar{E}}-1)\n",
    "$$\n",
    "$$\n",
    "\\frac{dG}{d\\tau} = \\nu_* G(t)(\\frac{E_G}{\\bar{E}}-1)\n",
    "$$\n",
    "where $\\nu^* = \\nu/\\mu_s << 1$"
   ]
  },
  {
   "cell_type": "markdown",
   "metadata": {},
   "source": [
    "<h3>Removing gregarious locusts</h3>\n",
    "Analysis is very complicated with 5 equations dictating the dynamics of gregarious and solitary locusts. Let's look at the system with only solitary locusts. We thus have the following three equations for locusts' energy, resources, and locusts' population:\n",
    "$$\n",
    "\\frac{dE_S}{d\\tau} = k \\gamma p_s \\frac{R(t)}{R(t)+R^*} - 1 = k\\gamma \\frac{R(t)}{R(t)+R^*} - 1\n",
    "$$\n",
    "where $p_s=1$\n",
    "$$\n",
    "\\frac{dR}{d\\tau} = r^*R(t)(1-R(t)/R_c) - S(t)(\\frac{dE_s}{d\\tau}+1)\n",
    "$$\n",
    "$$\n",
    "\\frac{dS}{d\\tau} = \\nu_* S(t)(\\frac{E_S}{\\bar{E}}-1)\n",
    "$$\n",
    "Setting this system equal to the zero vector yields the following fixed points (using Sympy):\n",
    "$$\n",
    "\\left [ E_S^*(t), S^*(t), R^*(t) \\right ] = \\left [ \\bar{E}, \\frac{R^*r^*(R_c\\gamma k -R_c - R^*)}{R_c(\\gamma k - 1)^2}, \\frac{R^*}{\\gamma k - 1} \\right ]\n",
    "$$\n",
    "In order for $S^*(t)>0$, we need $\\gamma > \\frac{R_c+R^*}{R_ck}$\n",
    "<br>\n",
    "Since we find that this fixed point is essentially never stable, it is worth asking when $dR/d\\tau>0$ as a function of $S(t)$. Can resources grow when there are locusts. We get the following nulcline:\n",
    "$$\n",
    "R(t) = R_c/2 - R^*/2 \\pm \\frac{1}{2r^*}\\sqrt{r^*(-4R_c\\gamma kS(t) + R_c^2r^* + 2R_cR^*r^* +r^*(R^*)^2}\n",
    "$$"
   ]
  },
  {
   "cell_type": "code",
   "execution_count": 2,
   "metadata": {},
   "outputs": [],
   "source": [
    "##python implementation: only solitary locusts\n",
    "def solDE(S, R, Es, Rn, gamma, k, r, Rc, nu, Ebar):\n",
    "    \n",
    "    \n",
    "    h = R/(R+Rn)\n",
    "    \n",
    "    x = k*gamma*h - 1\n",
    "    if Es < 0:\n",
    "        x=0\n",
    "    \n",
    "    z = r*R*(1-R/Rc) - S*(k*gamma*h)\n",
    "    \n",
    "    spop = nu*S*((Es/Ebar)-1)\n",
    "    if S < 0:\n",
    "        spop=0\n",
    "    \n",
    "    return x, z, spop"
   ]
  },
  {
   "cell_type": "code",
   "execution_count": 3,
   "metadata": {},
   "outputs": [
    {
     "data": {
      "application/vnd.jupyter.widget-view+json": {
       "model_id": "c5eb9b8b12064955886926e07b65eb4f",
       "version_major": 2,
       "version_minor": 0
      },
      "text/plain": [
       "interactive(children=(FloatSlider(value=10.0, description='S0', max=50.0, step=0.01), IntSlider(value=190, des…"
      ]
     },
     "metadata": {},
     "output_type": "display_data"
    }
   ],
   "source": [
    "@interact(k=(.05,1.5,.05), S0=(0,50,.01), R0=(0,1000,10), r=(0,2,.01), gamma=(.01,25,.01), nu=(.0001,.1,.0001), Ebar=(0,20,.01), Rn=(0,2000,10), Rc=(0,2000), tsteps=(0,1000000,100))\n",
    "def solsim(S0=10, R0=190, Rn=100, gamma=5.52, k=.35, r=1, Rc=200, Ebar = 5, E0=5, nu = .036, tsteps=100000):\n",
    "    \n",
    "    dtau = .001\n",
    "    x = np.empty([tsteps + 1,3])\n",
    "    x[0] = [E0, R0, S0]\n",
    "    for i in range(tsteps):\n",
    "        s, z, spop = solDE(x[i][2], x[i][1], x[i][0], Rn, gamma, k, r, Rc, nu, Ebar)\n",
    "        x[i+1][0] = x[i][0]+s*dtau\n",
    "        x[i+1][1] = x[i][1]+z*dtau\n",
    "        x[i+1][2] = x[i][2]+spop*dtau\n",
    "    \n",
    "    s = [y[0] for y in x]\n",
    "    res = [y[1] for y in x]\n",
    "    spop = [y[2] for y in x]\n",
    "    \n",
    "    \n",
    "    fig, axs = plt.subplots(2)\n",
    "                   \n",
    "    axs[0].plot(range(tsteps+1), s, c='r', label='solitary locusts\\' energy')\n",
    "    axs[0].plot(range(tsteps+1), res, c='g', label='resources')\n",
    "    legend=axs[0].legend()\n",
    "    axs[1].plot(range(tsteps+1), spop, c='r', label='solitary population')\n",
    "    legend=axs[1].legend()\n",
    "    plt.xlabel('time')\n",
    "    print(\"nu\", nu)\n",
    "    \n",
    "    \n",
    "    Scrit = Rn*r*(Rc*gamma*k-Rc-Rn)/(Rc*(gamma*k-1)**2)\n",
    "    Rcrit = Rn/(gamma*k-1)\n",
    "    print(\"Scrit\", Scrit)\n",
    "    print(\"Rcrit\",Rcrit)\n",
    "    \n",
    "    gcrit = (Rc + Rn)/(Rc*k)\n",
    "    print(\"gamma for Scrit to be positive\", gcrit)\n",
    "    \n",
    "    M = Matrix([[0, 0, gamma*k*Rn/(Rcrit+Rn)**2], [nu*Scrit/Ebar, 0, 0], [0, k*gamma*Rcrit/(Rcrit+Rn), r*(1-(Rcrit/Rc))-(r*Rcrit/Rc)-(Scrit*k*gamma*Rn)/(Rcrit+Rn)**2]])\n",
    "    evals = M.eigenvals()\n",
    "    print(\"evals\",evals)\n",
    "    \n",
    "    plt.show()"
   ]
  },
  {
   "cell_type": "code",
   "execution_count": 14,
   "metadata": {},
   "outputs": [],
   "source": [
    "##Solving equilibrium\n",
    "import math\n",
    "R, S, g, k, n, r, c, b, E, v = symbols('R, S, g, k, n, r, c, b, E, v', real=True)\n",
    "y = nonlinsolve([v*S*((E/b)-1), (k*g*R/(R+n))-1, r*R*(1-(R/c)) - S*k*g*R/(R+n)], [E, S, R])\n",
    "#print(y)\n",
    "\n",
    "Scrit = n*r*(c*g*k-c-n)/(c*(g*k-1)**2)\n",
    "Rcrit = n/(g*k-1)\n",
    "c=Rcrit\n",
    "M = Matrix([[0, 0, g*k*n/(Rcrit+n)**2], [v*Scrit/b, 0, 0], [0, k*g*Rcrit/(Rcrit+n), r*(1-(Rcrit/c))-(r*Rcrit/c)-(Scrit*k*g*n)/(Rcrit+n)**2]])\n",
    "evals = M.eigenvals()\n",
    "#print(evals)\n",
    "\n",
    "##when sol is real\n",
    "#z = nonlinsolve([c*r*(c*r-4), (c*r)**2 - 4*c*r], [c, r])\n",
    "ev1 = -(sqrt((2*(-c*g*k*r + c*r + g*k*n*r + n*r)**3/(c*g**2*k**2 - c*g*k)**3 + 27*(-c*g*k*r*v + c*r*v + n*r*v)/(b*c*g*k))**2 - 4*(-c*g*k*r + c*r + g*k*n*r + n*r)**6/(c*g**2*k**2 - c*g*k)**6)/2 + (-c*g*k*r + c*r + g*k*n*r + n*r)**3/(c*g**2*k**2 - c*g*k)**3 + 27*(-c*g*k*r*v + c*r*v + n*r*v)/(2*b*c*g*k))**(1/3)/3 - (-c*g*k*r + c*r + g*k*n*r + n*r)/(3*(c*g**2*k**2 - c*g*k)) - (-c*g*k*r + c*r + g*k*n*r + n*r)**2/(3*(c*g**2*k**2 - c*g*k)**2*(sqrt((2*(-c*g*k*r + c*r + g*k*n*r + n*r)**3/(c*g**2*k**2 - c*g*k)**3 + 27*(-c*g*k*r*v + c*r*v + n*r*v)/(b*c*g*k))**2 - 4*(-c*g*k*r + c*r + g*k*n*r + n*r)**6/(c*g**2*k**2 - c*g*k)**6)/2 + (-c*g*k*r + c*r + g*k*n*r + n*r)**3/(c*g**2*k**2 - c*g*k)**3 + 27*(-c*g*k*r*v + c*r*v + n*r*v)/(2*b*c*g*k))**(1/3))\n",
    "ev2 = -(-1/2 + sqrt(3)*I/2)*(sqrt((2*(-c*g*k*r + c*r + g*k*n*r + n*r)**3/(c*g**2*k**2 - c*g*k)**3 + 27*(-c*g*k*r*v + c*r*v + n*r*v)/(b*c*g*k))**2 - 4*(-c*g*k*r + c*r + g*k*n*r + n*r)**6/(c*g**2*k**2 - c*g*k)**6)/2 + (-c*g*k*r + c*r + g*k*n*r + n*r)**3/(c*g**2*k**2 - c*g*k)**3 + 27*(-c*g*k*r*v + c*r*v + n*r*v)/(2*b*c*g*k))**(1/3)/3 - (-c*g*k*r + c*r + g*k*n*r + n*r)/(3*(c*g**2*k**2 - c*g*k)) - (-c*g*k*r + c*r + g*k*n*r + n*r)**2/(3*(-1/2 + sqrt(3)*I/2)*(c*g**2*k**2 - c*g*k)**2*(sqrt((2*(-c*g*k*r + c*r + g*k*n*r + n*r)**3/(c*g**2*k**2 - c*g*k)**3 + 27*(-c*g*k*r*v + c*r*v + n*r*v)/(b*c*g*k))**2 - 4*(-c*g*k*r + c*r + g*k*n*r + n*r)**6/(c*g**2*k**2 - c*g*k)**6)/2 + (-c*g*k*r + c*r + g*k*n*r + n*r)**3/(c*g**2*k**2 - c*g*k)**3 + 27*(-c*g*k*r*v + c*r*v + n*r*v)/(2*b*c*g*k))**(1/3))\n",
    "ev3 = -(-1/2 - sqrt(3)*I/2)*(sqrt((2*(-c*g*k*r + c*r + g*k*n*r + n*r)**3/(c*g**2*k**2 - c*g*k)**3 + 27*(-c*g*k*r*v + c*r*v + n*r*v)/(b*c*g*k))**2 - 4*(-c*g*k*r + c*r + g*k*n*r + n*r)**6/(c*g**2*k**2 - c*g*k)**6)/2 + (-c*g*k*r + c*r + g*k*n*r + n*r)**3/(c*g**2*k**2 - c*g*k)**3 + 27*(-c*g*k*r*v + c*r*v + n*r*v)/(2*b*c*g*k))**(1/3)/3 - (-c*g*k*r + c*r + g*k*n*r + n*r)/(3*(c*g**2*k**2 - c*g*k)) - (-c*g*k*r + c*r + g*k*n*r + n*r)**2/(3*(-1/2 - sqrt(3)*I/2)*(c*g**2*k**2 - c*g*k)**2*(sqrt((2*(-c*g*k*r + c*r + g*k*n*r + n*r)**3/(c*g**2*k**2 - c*g*k)**3 + 27*(-c*g*k*r*v + c*r*v + n*r*v)/(b*c*g*k))**2 - 4*(-c*g*k*r + c*r + g*k*n*r + n*r)**6/(c*g**2*k**2 - c*g*k)**6)/2 + (-c*g*k*r + c*r + g*k*n*r + n*r)**3/(c*g**2*k**2 - c*g*k)**3 + 27*(-c*g*k*r*v + c*r*v + n*r*v)/(2*b*c*g*k))**(1/3))\n",
    "\n",
    "#hope = nonlinsolve([ev1, ev2, ev3], [g, r])\n",
    "#print(hope)"
   ]
  },
  {
   "cell_type": "code",
   "execution_count": 5,
   "metadata": {},
   "outputs": [],
   "source": [
    "##plotting eigenvalues as a function of gamma\n",
    "def compevals(gamma, Rn=100, k=.35, r=.02, Rc=200, Ebar = .1, nu = .0036):\n",
    "    Scrit = Rn*r*(Rc*gamma*k-Rc-Rn)/(Rc*(gamma*k-1)**2)\n",
    "    Rcrit = Rn/(gamma*k-1) \n",
    "    \n",
    "    init_printing(use_unicode=True)\n",
    "    M = Matrix([[0, 0, gamma*k*Rn/(Rcrit+Rn)**2], [nu*Scrit/Ebar, 0, 0], [0, k*gamma*Rcrit/(Rcrit+Rn), r*(1-(Rcrit/Rc))-(r*Rcrit/Rc)-(Scrit*k*gamma*Rn)/(Rcrit+Rn)**2]])\n",
    "    evals = M.eigenvals()\n",
    "    \n",
    "    return evals\n"
   ]
  },
  {
   "cell_type": "code",
   "execution_count": 9,
   "metadata": {},
   "outputs": [
    {
     "name": "stdout",
     "output_type": "stream",
     "text": [
      "0\n",
      "99\n"
     ]
    },
    {
     "data": {
      "image/png": "[encoded data removed]",
      "text/plain": [
       "<Figure size 432x288 with 1 Axes>"
      ]
     },
     "metadata": {
      "needs_background": "light"
     },
     "output_type": "display_data"
    }
   ],
   "source": [
    "def plotevals(Rn=100, k=.35, r=.02, Rc=200, Ebar = .1, nu = .0036):\n",
    "    nu = np.linspace(0,.01,100)\n",
    "    gamma = ((Rc+Rn)/(Rc*k))+1\n",
    "    evals = [compevals(gamma, Rn, k, r, Rc, Ebar, n) for n in nu]\n",
    "    \n",
    "    ev1 = []\n",
    "    ev2 = []\n",
    "    ev3 = []\n",
    "    \n",
    "    for i in range(len(evals)):\n",
    "        vals = list(evals[i].keys())\n",
    "        ev1.append(re(vals[0]))\n",
    "        ev2.append(re(vals[1]))\n",
    "        ev3.append(re(vals[2]))\n",
    "    n=0\n",
    "    for i, j, k in zip(ev1, ev2, ev3):\n",
    "        if i <= 0 and j <= 0 and k <= 0:\n",
    "            print(n)\n",
    "        else:\n",
    "            n += 1\n",
    "    print(n)       \n",
    "    \n",
    "    plt.plot(range(len(evals)), ev1, label='ev1')\n",
    "    plt.plot(range(len(evals)), ev2, label='ev2')\n",
    "    plt.plot(range(len(evals)), ev3, label='ev3')\n",
    "    legend=plt.legend()\n",
    "    \n",
    "    plt.show()\n",
    "plotevals()"
   ]
  },
  {
   "cell_type": "code",
   "execution_count": 5,
   "metadata": {},
   "outputs": [],
   "source": [
    "##equilibrium for S, G, R - takes too long to compute\n",
    "import math\n",
    "R, S, G, a, k, n, r, c, u = symbols('R, S, G, a, k, n, r, c, u', real=True)\n",
    "#y = nonlinsolve([(k*a*S*R/((S+G)*(R+n)))-1, (a*R/(R+n))*(((S**2)/G*(S+G))*(1-(k*S/(S+G))) + (G/(S+G))) - u, r*R*(1-(R/c)) - (a*R/(R+n))*(((S**2)/G*(S+G))*(1-(k*S/(S+G))) + (G/(S+G))) - (k*a*S*R/((S+G)*(R+n)))], [S,G,R])\n",
    "#print(y)"
   ]
  },
  {
   "cell_type": "markdown",
   "metadata": {},
   "source": [
    "<h3> Bringing back gregarious locusts </h3>\n",
    "<br>\n",
    "<h5>We have a 5 dimensional system:</h5>\n",
    "$$\n",
    "\\frac{dE_S}{d\\tau} = k \\gamma p_s \\frac{R(t)}{R(t)+R^*} - 1 \n",
    "$$\n",
    "\n",
    "$$\n",
    "\\frac{dE_G}{d\\tau} = q(1-kp_s)\\gamma p_s\\frac{R(t)}{R(t)+R^*} + \\gamma p_g \\frac{R(t)}{R(t)+R^*} - \\mu_l\n",
    "$$\n",
    "\n",
    "$$\n",
    "\\frac{dR}{d\\tau} = r^*R(t)(1-R(t)/R_c) - S(t)(\\frac{dE_s}{d\\tau}+1) - G(t)(\\frac{dE_g}{d\\tau}+\\mu_l)\n",
    "$$\n",
    "\n",
    "$$\n",
    "\\frac{dS}{d\\tau} = \\nu_* S(t)(\\frac{E_S}{\\bar{E}}-1)\n",
    "$$\n",
    "\n",
    "$$\n",
    "\\frac{dG}{d\\tau} = \\nu_* G(t)(\\frac{E_G}{\\bar{E}}-1)\n",
    "$$"
   ]
  },
  {
   "cell_type": "code",
   "execution_count": 20,
   "metadata": {},
   "outputs": [
    {
     "name": "stdout",
     "output_type": "stream",
     "text": [
      "Es nulcline \\left\\{\\left( \\left\\{\\frac{G \\left(R + n\\right)}{R a k - R - n}\\right\\} \\setminus \\left\\{- G\\right\\}\\right)\\right\\}\n"
     ]
    }
   ],
   "source": [
    "#finding nullclines\n",
    "R, S, G, a, k, n, r, c, u = symbols('R, S, G, a, k, n, r, c, u', real=True)\n",
    "y=nonlinsolve([k*a*S*R/((S+G)*(R+n))-1], [S])\n",
    "print(\"Es nulcline\", latex(y))"
   ]
  },
  {
   "cell_type": "markdown",
   "metadata": {},
   "source": [
    "Es nulcline\n",
    "$$\n",
    "\\left\\{\\left( \\left\\{\\frac{G \\left(R + n\\right)}{R a k - R - n}\\right\\} \\setminus \\left\\{- G\\right\\}\\right)\\right\\}\n",
    "$$\n",
    "Eg nulcline\n"
   ]
  },
  {
   "cell_type": "code",
   "execution_count": 11,
   "metadata": {},
   "outputs": [],
   "source": [
    "\n",
    "## python implementation\n",
    "def genalgDE(S, G, R, Es, Eg, Rn, gamma, k, ul, r, Rc, nu, Ebar):\n",
    "    q = S/(G+.001)\n",
    "    ps = S/(G+S)\n",
    "    pg = G/(G+S)\n",
    "    beta = (q**2)*(1-k*ps)*ps + pg\n",
    "    h = R/(R+Rn)\n",
    "      \n",
    "    #dE_S/dt\n",
    "    x = k*gamma*ps*h - 1\n",
    "    if Es < 0:\n",
    "        x=0\n",
    "    \n",
    "    #dE_G/dtau\n",
    "    y = q*(1-k*ps)*gamma*ps*h + gamma*pg*h - ul\n",
    "    if Eg < 0:\n",
    "        y=0\n",
    "    \n",
    "    #dR/dt\n",
    "    z = r*R*(1-(R/Rc)) - S*(k*gamma*ps*h) - G*(q*(1-k*ps)*gamma*ps*h + gamma*pg*h)\n",
    "    \n",
    "    spop = nu*S*((Es/Ebar)-1)\n",
    "    if S < 0:\n",
    "        spop=0\n",
    "        \n",
    "    gpop = nu*G*((Eg/Ebar)-1)\n",
    "    if G < 0:\n",
    "        gpop=0\n",
    "    \n",
    "    return x, y, z, spop, gpop"
   ]
  },
  {
   "cell_type": "code",
   "execution_count": 35,
   "metadata": {
    "scrolled": false
   },
   "outputs": [
    {
     "data": {
      "application/vnd.jupyter.widget-view+json": {
       "model_id": "1bae937c95e64f6ca7ee3d3f5af94b16",
       "version_major": 2,
       "version_minor": 0
      },
      "text/plain": [
       "interactive(children=(FloatSlider(value=10.0, description='S0', max=50.0, step=0.01), FloatSlider(value=10.0, …"
      ]
     },
     "metadata": {},
     "output_type": "display_data"
    }
   ],
   "source": [
    "@interact(k=(.05,1.5,.01), S0=(0,50,.01), G0=(0,50,.01), R0=(0,1000,10), ul=(1,3,.1), r=(0,2,.01), gamma=(.01,25,.01), nu=(.0001,.1,.0001), Rn=(0,2000,10), Rc=(0,2000), tsteps=(0,50000,100))\n",
    "def genalgsim(S0=10, G0=10, R0=50, Rn=100, gamma=7.45, k=1.04, ul=1.5, r=.69, Rc=200, Ebar = 1, nu = .036, tsteps=30000):\n",
    "    \n",
    "    dtau = .001\n",
    "    x = np.empty([tsteps + 1,5])\n",
    "    x[0] = [0,0,R0, S0, G0]\n",
    "    for i in range(tsteps):\n",
    "        s, g, z, spop, gpop = genalgDE(x[i][3], x[i][4], x[i][2], x[i][0], x[i][1], Rn, gamma, k, ul, r, Rc, nu, Ebar)\n",
    "        x[i+1][0] = x[i][0]+s*dtau\n",
    "        x[i+1][1] = x[i][1]+g*dtau\n",
    "        x[i+1][2] = x[i][2]+z*dtau\n",
    "        x[i+1][3] = x[i][3]+spop*dtau\n",
    "        x[i+1][4] = x[i][4]+gpop*dtau\n",
    "    \n",
    "    g = [y[1] for y in x]\n",
    "    s = [y[0] for y in x]\n",
    "    res = [y[2] for y in x]\n",
    "    spop = [y[3] for y in x]\n",
    "    gpop = [y[4] for y in x]\n",
    "    \n",
    "    fig, axs = plt.subplots(2)\n",
    "    \n",
    "    axs[0].plot(range(tsteps+1), g, c='b', label='gregarizing locusts\\' energy')\n",
    "    axs[0].plot(range(tsteps+1), s, c='r', label='solitary locusts\\' energy')\n",
    "    axs[0].plot(range(tsteps+1), res, c='g', label='resources')\n",
    "    legend=axs[0].legend()\n",
    "    axs[1].plot(range(tsteps+1), spop, c='r', label='solitary population')\n",
    "    axs[1].plot(range(tsteps+1), gpop, c='g', label='gregarious population')\n",
    "    legend=axs[1].legend()\n",
    "    plt.xlabel('time')\n",
    "    fig.suptitle(f\"Params: Rn={Rn}, gamma={gamma}, k={k}, r={r}, Rc={Rc}, nu={nu}\")\n",
    "    print(\"nu\", nu)\n",
    "    \"\"\"\n",
    "    gcrit = []\n",
    "\n",
    "    for S, G in zip(spop, gpop):\n",
    "        ps = S/(G+S)\n",
    "        pg = G/(G+S)\n",
    "        q=S/G\n",
    "        beta = (q**2)*(1-k*ps)*ps + pg\n",
    "        kappa = (S**2)*k*ps + (G**2)*beta\n",
    "        gcrit.append([(1/kappa)*(r*Rn+(Rc*r/4)*(1-Rn/Rc)**2)])\n",
    "\n",
    "    #axs[2].plot(range(tsteps+1),gcrit, label='critical gamma')\n",
    "    #legend=axs[2].legend()\n",
    "    \"\"\"\n",
    "    plt.show()"
   ]
  },
  {
   "cell_type": "markdown",
   "metadata": {},
   "source": [
    "<h3>Stability analysis of genetic algorithm (Under Construction)</h3>\n",
    "One question that we need to investigate is determining when $\\frac{dE_S}{d\\tau} > 0$ and $\\frac{dE_G}{d\\tau} > 0$. One thing that we find is that for high resources, $E_S$ may be bistable depending on $S(t)$:\n",
    "$$\n",
    "\\frac{dE_S}{d\\tau} = 0 = k\\gamma p_sS(t)\\frac{R(t)}{R(t)+R^*} - 1\n",
    "$$\n",
    "rearranging yields\n",
    "$$\n",
    "k\\gamma p_s S(t) = \\frac{R(t)+R^*}{R(t)}\n",
    "$$\n",
    "which for high resources evaluates to \n",
    "$$\n",
    "k\\gamma p_s S(t) \\approx 1\n",
    "$$\n",
    "which yields the polynomial\n",
    "$$\n",
    "S^2(t)k\\gamma - S(t) - G(t) = 0\n",
    "$$\n",
    "and solving via the quadratic formula, we find that $\\frac{dE_S}{d\\tau} > 0$ when\n",
    "$$\n",
    "S(t) > \\frac{-1 + \\sqrt{1+4k\\gamma G(t)}}{2k\\gamma} \\text{ or } S(t) < \\frac{-1 - \\sqrt{1+4k\\gamma G(t)}}{2k\\gamma}\n",
    "$$\n",
    "However, the second solution would always be negative, so we should only really care about the first one.<br>\n",
    "To find out when S(t) might be greater than this critical value, we can find the fixed points of $\\frac{dS}{d\\tau}$\n",
    "$$\n",
    "\\frac{dS}{d\\tau} = 0 = \\nu_*S(t)(\\frac{E_S}{\\bar{E}}-1)\n",
    "$$\n",
    "which requires either $S(t) = 0$ or $E_S = \\bar{E}$.\n",
    "<br>\n",
    "<br>\n",
    "Looking back on the equilibrium analysis for $R$, we find that $dR/d\\tau=0$ when \n",
    "$$\n",
    "R(t) = \\frac{-r^*(1 - \\frac{R^*}{R_c}) \\pm \\sqrt{(r^*(1-\\frac{R^*}{R_c}))^2 + 4(\\frac{r^*}{R_c}(r^*R^*-\\gamma\\kappa))}}{2r^*/R_c}\n",
    "$$\n",
    "We also find that $dE_S/d\\tau=0$ (without approximating for high resources) when\n",
    "$$\n",
    "R_{S^*}(t) = \\frac{-R^*}{1-\\gamma kp_sS(t)}\n",
    "$$\n",
    "And that $dE_G/d\\tau=0$ when \n",
    "$$\n",
    "R_{G^*}(t) = \\frac{-\\mu_lR^*}{\\mu_l - \\gamma\\beta G(t)}\n",
    "$$\n",
    "Setting $R_{G^*}(t)=R_{S^*}(t)$ yields\n",
    "$$\n",
    "G(t) = \\frac{\\mu_lkp_s}{\\beta}S(t)\n",
    "$$\n",
    "*This is where I am getting stuck. According to wolfram alpha G(t) evaluates to:*\n",
    "$$\n",
    "x = (2 k^3 s^6 u^3 + 3 k^2 s^5 u^2 + sqrt((2 k^3 s^6 u^3 + 3 k^2 s^5 u^2 - 9 k s^5 u - 3 k s^4 u + 27 k s^4 - 18 s^4 - 2 s^3)^2 + 4 (3 (s^3 - k s^3 u) - (s - k s^2 u)^2)^3) - 9 k s^5 u - 3 k s^4 u + 27 k s^4 - 18 s^4 - 2 s^3)^(1/3)/(3 2^(1/3)) - (2^(1/3) (3 (s^3 - k s^3 u) - (s - k s^2 u)^2))/(3 (2 k^3 s^6 u^3 + 3 k^2 s^5 u^2 + sqrt((2 k^3 s^6 u^3 + 3 k^2 s^5 u^2 - 9 k s^5 u - 3 k s^4 u + 27 k s^4 - 18 s^4 - 2 s^3)^2 + 4 (3 (s^3 - k s^3 u) - (s - k s^2 u)^2)^3) - 9 k s^5 u - 3 k s^4 u + 27 k s^4 - 18 s^4 - 2 s^3)^(1/3)) + 1/3 (k s^2 u - s)\n",
    "$$\n",
    "where $x=G(t), s=S(t), u = \\mu_l$"
   ]
  }
 ],
 "metadata": {
  "celltoolbar": "Edit Metadata",
  "kernelspec": {
   "display_name": "Python 3",
   "language": "python",
   "name": "python3"
  },
  "language_info": {
   "codemirror_mode": {
    "name": "ipython",
    "version": 3
   },
   "file_extension": ".py",
   "mimetype": "text/x-python",
   "name": "python",
   "nbconvert_exporter": "python",
   "pygments_lexer": "ipython3",
   "version": "3.7.3"
  }
 },
 "nbformat": 4,
 "nbformat_minor": 4
}
